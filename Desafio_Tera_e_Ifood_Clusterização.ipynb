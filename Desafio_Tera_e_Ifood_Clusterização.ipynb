{
  "nbformat": 4,
  "nbformat_minor": 0,
  "metadata": {
    "colab": {
      "name": "Desafio_Tera_e_Ifood_Clusterização.ipynb",
      "provenance": [],
      "collapsed_sections": [
        "gvhKqcCuZohb",
        "rjkqVJ-qcPsN",
        "lq2egpUlifve",
        "aBGDl6X_iruG"
      ],
      "include_colab_link": true
    },
    "kernelspec": {
      "name": "python3",
      "display_name": "Python 3"
    },
    "language_info": {
      "name": "python"
    }
  },
  "cells": [
    {
      "cell_type": "markdown",
      "metadata": {
        "id": "view-in-github",
        "colab_type": "text"
      },
      "source": [
        "<a href=\"https://colab.research.google.com/github/casjunior93/Desafio-Tera-iFood--Clusterizacao/blob/main/Desafio_Tera_e_Ifood_Clusteriza%C3%A7%C3%A3o.ipynb\" target=\"_parent\"><img src=\"https://colab.research.google.com/assets/colab-badge.svg\" alt=\"Open In Colab\"/></a>"
      ]
    },
    {
      "cell_type": "markdown",
      "source": [
        "Habilitando acesso do Colab ao Google Drive\n",
        "\n"
      ],
      "metadata": {
        "id": "y0U9L7CgUS-F"
      }
    },
    {
      "cell_type": "code",
      "source": [
        "from google.colab import drive\n",
        "drive.mount('/content/drive')"
      ],
      "metadata": {
        "colab": {
          "base_uri": "https://localhost:8080/"
        },
        "id": "7BglD1K1UUJL",
        "outputId": "f0ef83cc-42e7-47c8-e635-43ad84aa4aab"
      },
      "execution_count": 2,
      "outputs": [
        {
          "output_type": "stream",
          "name": "stdout",
          "text": [
            "Mounted at /content/drive\n"
          ]
        }
      ]
    },
    {
      "cell_type": "markdown",
      "source": [
        "# Bibliotecas fundamentais"
      ],
      "metadata": {
        "id": "MoMHAuiuUiWN"
      }
    },
    {
      "cell_type": "code",
      "source": [
        "import numpy as np\n",
        "import pandas as pd\n",
        "import seaborn as sns\n",
        "import matplotlib.pyplot as plt\n",
        "import warnings\n",
        "warnings.filterwarnings('ignore')\n",
        "\n",
        "#Configura o pandas para não exibir resultados em notação científica\n",
        "pd.options.display.float_format = '{:.2f}'.format"
      ],
      "metadata": {
        "id": "20ZKXpLlUYOt"
      },
      "execution_count": 3,
      "outputs": []
    },
    {
      "cell_type": "markdown",
      "source": [
        "# Roteiro do Projeto\n",
        "\n",
        "O livro [Mãos à Obra: Aprendizado de Máquina com Scikit-Learn, Keras & TensorFlow](https://www.oreilly.com/library/view/maos-a-obra/9788550803814/) traz uma sugestão de roteiro para orientar um projeto de aprendizado de máquina. Os passos gerais são:\n",
        "\n",
        "1.   Abordar o problema e analisar o panorama em geral\n",
        "2.   Obter os dados\n",
        "3.   Explorar os dados para obter informações úteis\n",
        "4.   Preparar os dados para expor melhor os padrões de dados subjacentes aos algoritmos de aprendizado de máquina.\n",
        "5.   Explorar modelos diferentes e selecionar os melhores.\n",
        "6.   Aperfeiçoar os modelos e os combinar em uma solução ideal.\n",
        "7.   Apresentar a solução.\n",
        "8.   Implementar, monitorar e fazer a manutenção de seu sistema."
      ],
      "metadata": {
        "id": "CRxk_QzGUpO9"
      }
    },
    {
      "cell_type": "markdown",
      "source": [
        "# Passo 1: Abordar o problema e analisar o panorama em geral"
      ],
      "metadata": {
        "id": "KBENhEbDUwBt"
      }
    },
    {
      "cell_type": "markdown",
      "source": [
        "A diversidade e amplitude de clientes que utilizam a plataforma do iFood é gigante - a cobertura do aplicativo se estende por muitas geografias no Brasil, de múltiplos gostos, regionalismos e bolsos. Alguns buscam uma experiência no momento da refeição, outros só querem receber a marmita na hora certa para não se atrasar para a primeira reunião pós-almoço.\n",
        "\n",
        "Neste contexto, precisamos entender melhor nossos clientes! Quem é o mais fiel e quem mais compra conosco? Quem mais gosta de cupom? Quem gosta de entrega grátis? Qual o padrão de consumo? Qual o padrão de comportamento? Quanto os clientes vão gastar? Onde?"
      ],
      "metadata": {
        "id": "Zd0S2RQJVDgd"
      }
    },
    {
      "cell_type": "markdown",
      "source": [
        "# Passo 2: Obter os dados"
      ],
      "metadata": {
        "id": "4URny_lgVbAj"
      }
    },
    {
      "cell_type": "markdown",
      "source": [
        "Dados de pedidos:"
      ],
      "metadata": {
        "id": "x-8EN1sNVoP9"
      }
    },
    {
      "cell_type": "code",
      "source": [
        "pedidos = pd.read_csv('/content/drive/MyDrive/ARQUIVOS TERA/Aulas/DESAFIO IFOOD DE CLUSTERING/dados_desafio_ifood/orders.csv', sep=';', \n",
        "                      parse_dates=['confirmed_date', 'concluded_date', 'review_created_at'])"
      ],
      "metadata": {
        "id": "KL32qlzvUlEG"
      },
      "execution_count": 4,
      "outputs": []
    },
    {
      "cell_type": "code",
      "source": [
        "pedidos.head(2)"
      ],
      "metadata": {
        "colab": {
          "base_uri": "https://localhost:8080/",
          "height": 310
        },
        "id": "-dOyv1yOV4y1",
        "outputId": "16a84bc2-76af-4ccd-8fc7-91174325381b"
      },
      "execution_count": 5,
      "outputs": [
        {
          "output_type": "execute_result",
          "data": {
            "text/plain": [
              "                               order_id     order_shift order_origin  \\\n",
              "0  000f4c94-ec38-488b-ad98-9bf3ea19d517   weekday lunch   RESTAURANT   \n",
              "1  0018ed39-3ae0-4047-9c9e-fd9a2027e645  weekend dinner   RESTAURANT   \n",
              "\n",
              "   delivery_fee  scheduled  total_amount  subsidy_amount device_platform  \\\n",
              "0        875.00      False       5375.00            0.00         ANDROID   \n",
              "1          0.00      False       2987.50         1250.00             IOS   \n",
              "\n",
              "  device_type device_app_version  ... merchant_long merchant_lat  \\\n",
              "0      MOBILE             9.39.1  ...        -43.38       -22.83   \n",
              "1      MOBILE             9.63.0  ...        -43.22       -22.93   \n",
              "\n",
              "  has_free_delivery                   confirmed_date  \\\n",
              "0             False 2020-02-28 14:07:25.953000+00:00   \n",
              "1              True 2020-08-21 21:12:23.295000+00:00   \n",
              "\n",
              "                    concluded_date  lag_last_order  \\\n",
              "0 2020-02-28 16:06:03.701000+00:00            1.00   \n",
              "1 2020-08-21 21:59:18.732000+00:00            1.00   \n",
              "\n",
              "                             account_id review_score nps_score  \\\n",
              "0  70a2a5a3-8071-47fc-a623-e9995045314e         5.00         8   \n",
              "1  407bab9f-f485-48cd-abea-66e6283058c3         5.00         8   \n",
              "\n",
              "                 review_created_at  \n",
              "0 2020-02-28 19:06:31.861000+00:00  \n",
              "1 2020-09-04 00:14:14.365000+00:00  \n",
              "\n",
              "[2 rows x 34 columns]"
            ],
            "text/html": [
              "\n",
              "  <div id=\"df-8c403cdf-05dc-4f72-8252-fa9efb3f36f7\">\n",
              "    <div class=\"colab-df-container\">\n",
              "      <div>\n",
              "<style scoped>\n",
              "    .dataframe tbody tr th:only-of-type {\n",
              "        vertical-align: middle;\n",
              "    }\n",
              "\n",
              "    .dataframe tbody tr th {\n",
              "        vertical-align: top;\n",
              "    }\n",
              "\n",
              "    .dataframe thead th {\n",
              "        text-align: right;\n",
              "    }\n",
              "</style>\n",
              "<table border=\"1\" class=\"dataframe\">\n",
              "  <thead>\n",
              "    <tr style=\"text-align: right;\">\n",
              "      <th></th>\n",
              "      <th>order_id</th>\n",
              "      <th>order_shift</th>\n",
              "      <th>order_origin</th>\n",
              "      <th>delivery_fee</th>\n",
              "      <th>scheduled</th>\n",
              "      <th>total_amount</th>\n",
              "      <th>subsidy_amount</th>\n",
              "      <th>device_platform</th>\n",
              "      <th>device_type</th>\n",
              "      <th>device_app_version</th>\n",
              "      <th>...</th>\n",
              "      <th>merchant_long</th>\n",
              "      <th>merchant_lat</th>\n",
              "      <th>has_free_delivery</th>\n",
              "      <th>confirmed_date</th>\n",
              "      <th>concluded_date</th>\n",
              "      <th>lag_last_order</th>\n",
              "      <th>account_id</th>\n",
              "      <th>review_score</th>\n",
              "      <th>nps_score</th>\n",
              "      <th>review_created_at</th>\n",
              "    </tr>\n",
              "  </thead>\n",
              "  <tbody>\n",
              "    <tr>\n",
              "      <th>0</th>\n",
              "      <td>000f4c94-ec38-488b-ad98-9bf3ea19d517</td>\n",
              "      <td>weekday lunch</td>\n",
              "      <td>RESTAURANT</td>\n",
              "      <td>875.00</td>\n",
              "      <td>False</td>\n",
              "      <td>5375.00</td>\n",
              "      <td>0.00</td>\n",
              "      <td>ANDROID</td>\n",
              "      <td>MOBILE</td>\n",
              "      <td>9.39.1</td>\n",
              "      <td>...</td>\n",
              "      <td>-43.38</td>\n",
              "      <td>-22.83</td>\n",
              "      <td>False</td>\n",
              "      <td>2020-02-28 14:07:25.953000+00:00</td>\n",
              "      <td>2020-02-28 16:06:03.701000+00:00</td>\n",
              "      <td>1.00</td>\n",
              "      <td>70a2a5a3-8071-47fc-a623-e9995045314e</td>\n",
              "      <td>5.00</td>\n",
              "      <td>8</td>\n",
              "      <td>2020-02-28 19:06:31.861000+00:00</td>\n",
              "    </tr>\n",
              "    <tr>\n",
              "      <th>1</th>\n",
              "      <td>0018ed39-3ae0-4047-9c9e-fd9a2027e645</td>\n",
              "      <td>weekend dinner</td>\n",
              "      <td>RESTAURANT</td>\n",
              "      <td>0.00</td>\n",
              "      <td>False</td>\n",
              "      <td>2987.50</td>\n",
              "      <td>1250.00</td>\n",
              "      <td>IOS</td>\n",
              "      <td>MOBILE</td>\n",
              "      <td>9.63.0</td>\n",
              "      <td>...</td>\n",
              "      <td>-43.22</td>\n",
              "      <td>-22.93</td>\n",
              "      <td>True</td>\n",
              "      <td>2020-08-21 21:12:23.295000+00:00</td>\n",
              "      <td>2020-08-21 21:59:18.732000+00:00</td>\n",
              "      <td>1.00</td>\n",
              "      <td>407bab9f-f485-48cd-abea-66e6283058c3</td>\n",
              "      <td>5.00</td>\n",
              "      <td>8</td>\n",
              "      <td>2020-09-04 00:14:14.365000+00:00</td>\n",
              "    </tr>\n",
              "  </tbody>\n",
              "</table>\n",
              "<p>2 rows × 34 columns</p>\n",
              "</div>\n",
              "      <button class=\"colab-df-convert\" onclick=\"convertToInteractive('df-8c403cdf-05dc-4f72-8252-fa9efb3f36f7')\"\n",
              "              title=\"Convert this dataframe to an interactive table.\"\n",
              "              style=\"display:none;\">\n",
              "        \n",
              "  <svg xmlns=\"http://www.w3.org/2000/svg\" height=\"24px\"viewBox=\"0 0 24 24\"\n",
              "       width=\"24px\">\n",
              "    <path d=\"M0 0h24v24H0V0z\" fill=\"none\"/>\n",
              "    <path d=\"M18.56 5.44l.94 2.06.94-2.06 2.06-.94-2.06-.94-.94-2.06-.94 2.06-2.06.94zm-11 1L8.5 8.5l.94-2.06 2.06-.94-2.06-.94L8.5 2.5l-.94 2.06-2.06.94zm10 10l.94 2.06.94-2.06 2.06-.94-2.06-.94-.94-2.06-.94 2.06-2.06.94z\"/><path d=\"M17.41 7.96l-1.37-1.37c-.4-.4-.92-.59-1.43-.59-.52 0-1.04.2-1.43.59L10.3 9.45l-7.72 7.72c-.78.78-.78 2.05 0 2.83L4 21.41c.39.39.9.59 1.41.59.51 0 1.02-.2 1.41-.59l7.78-7.78 2.81-2.81c.8-.78.8-2.07 0-2.86zM5.41 20L4 18.59l7.72-7.72 1.47 1.35L5.41 20z\"/>\n",
              "  </svg>\n",
              "      </button>\n",
              "      \n",
              "  <style>\n",
              "    .colab-df-container {\n",
              "      display:flex;\n",
              "      flex-wrap:wrap;\n",
              "      gap: 12px;\n",
              "    }\n",
              "\n",
              "    .colab-df-convert {\n",
              "      background-color: #E8F0FE;\n",
              "      border: none;\n",
              "      border-radius: 50%;\n",
              "      cursor: pointer;\n",
              "      display: none;\n",
              "      fill: #1967D2;\n",
              "      height: 32px;\n",
              "      padding: 0 0 0 0;\n",
              "      width: 32px;\n",
              "    }\n",
              "\n",
              "    .colab-df-convert:hover {\n",
              "      background-color: #E2EBFA;\n",
              "      box-shadow: 0px 1px 2px rgba(60, 64, 67, 0.3), 0px 1px 3px 1px rgba(60, 64, 67, 0.15);\n",
              "      fill: #174EA6;\n",
              "    }\n",
              "\n",
              "    [theme=dark] .colab-df-convert {\n",
              "      background-color: #3B4455;\n",
              "      fill: #D2E3FC;\n",
              "    }\n",
              "\n",
              "    [theme=dark] .colab-df-convert:hover {\n",
              "      background-color: #434B5C;\n",
              "      box-shadow: 0px 1px 3px 1px rgba(0, 0, 0, 0.15);\n",
              "      filter: drop-shadow(0px 1px 2px rgba(0, 0, 0, 0.3));\n",
              "      fill: #FFFFFF;\n",
              "    }\n",
              "  </style>\n",
              "\n",
              "      <script>\n",
              "        const buttonEl =\n",
              "          document.querySelector('#df-8c403cdf-05dc-4f72-8252-fa9efb3f36f7 button.colab-df-convert');\n",
              "        buttonEl.style.display =\n",
              "          google.colab.kernel.accessAllowed ? 'block' : 'none';\n",
              "\n",
              "        async function convertToInteractive(key) {\n",
              "          const element = document.querySelector('#df-8c403cdf-05dc-4f72-8252-fa9efb3f36f7');\n",
              "          const dataTable =\n",
              "            await google.colab.kernel.invokeFunction('convertToInteractive',\n",
              "                                                     [key], {});\n",
              "          if (!dataTable) return;\n",
              "\n",
              "          const docLinkHtml = 'Like what you see? Visit the ' +\n",
              "            '<a target=\"_blank\" href=https://colab.research.google.com/notebooks/data_table.ipynb>data table notebook</a>'\n",
              "            + ' to learn more about interactive tables.';\n",
              "          element.innerHTML = '';\n",
              "          dataTable['output_type'] = 'display_data';\n",
              "          await google.colab.output.renderOutput(dataTable, element);\n",
              "          const docLink = document.createElement('div');\n",
              "          docLink.innerHTML = docLinkHtml;\n",
              "          element.appendChild(docLink);\n",
              "        }\n",
              "      </script>\n",
              "    </div>\n",
              "  </div>\n",
              "  "
            ]
          },
          "metadata": {},
          "execution_count": 5
        }
      ]
    },
    {
      "cell_type": "markdown",
      "source": [
        "Dados de marketing:"
      ],
      "metadata": {
        "id": "nBqOA8a-V_tn"
      }
    },
    {
      "cell_type": "code",
      "source": [
        "marketing = pd.read_csv('/content/drive/MyDrive/ARQUIVOS TERA/Aulas/DESAFIO IFOOD DE CLUSTERING/dados_desafio_ifood/marketing.csv', sep=';',\n",
        "                        parse_dates=['registration_date', 'first_order_date'])"
      ],
      "metadata": {
        "id": "N9STKE7MV57c"
      },
      "execution_count": 24,
      "outputs": []
    },
    {
      "cell_type": "code",
      "source": [
        "marketing.head(2)"
      ],
      "metadata": {
        "colab": {
          "base_uri": "https://localhost:8080/",
          "height": 112
        },
        "id": "EcXGJZqHWFcI",
        "outputId": "5bf7e19b-53f8-42e3-ac82-022a40819f6c"
      },
      "execution_count": 25,
      "outputs": [
        {
          "output_type": "execute_result",
          "data": {
            "text/plain": [
              "                             account_id registration_date ifood_status  \\\n",
              "0  7c0450e7-a806-4208-8449-e4269a27e6b5        2020-02-02     Inactive   \n",
              "1  16d0afba-00b8-427a-ba1f-2e397a9fbb54        2016-05-17        Churn   \n",
              "\n",
              "  ifood_status_last_month  total_order_count first_order_date  \n",
              "0                Inactive                  8       2020-02-28  \n",
              "1                  Active                457       2017-03-19  "
            ],
            "text/html": [
              "\n",
              "  <div id=\"df-601d9b1c-1223-4194-854b-c566c2940567\">\n",
              "    <div class=\"colab-df-container\">\n",
              "      <div>\n",
              "<style scoped>\n",
              "    .dataframe tbody tr th:only-of-type {\n",
              "        vertical-align: middle;\n",
              "    }\n",
              "\n",
              "    .dataframe tbody tr th {\n",
              "        vertical-align: top;\n",
              "    }\n",
              "\n",
              "    .dataframe thead th {\n",
              "        text-align: right;\n",
              "    }\n",
              "</style>\n",
              "<table border=\"1\" class=\"dataframe\">\n",
              "  <thead>\n",
              "    <tr style=\"text-align: right;\">\n",
              "      <th></th>\n",
              "      <th>account_id</th>\n",
              "      <th>registration_date</th>\n",
              "      <th>ifood_status</th>\n",
              "      <th>ifood_status_last_month</th>\n",
              "      <th>total_order_count</th>\n",
              "      <th>first_order_date</th>\n",
              "    </tr>\n",
              "  </thead>\n",
              "  <tbody>\n",
              "    <tr>\n",
              "      <th>0</th>\n",
              "      <td>7c0450e7-a806-4208-8449-e4269a27e6b5</td>\n",
              "      <td>2020-02-02</td>\n",
              "      <td>Inactive</td>\n",
              "      <td>Inactive</td>\n",
              "      <td>8</td>\n",
              "      <td>2020-02-28</td>\n",
              "    </tr>\n",
              "    <tr>\n",
              "      <th>1</th>\n",
              "      <td>16d0afba-00b8-427a-ba1f-2e397a9fbb54</td>\n",
              "      <td>2016-05-17</td>\n",
              "      <td>Churn</td>\n",
              "      <td>Active</td>\n",
              "      <td>457</td>\n",
              "      <td>2017-03-19</td>\n",
              "    </tr>\n",
              "  </tbody>\n",
              "</table>\n",
              "</div>\n",
              "      <button class=\"colab-df-convert\" onclick=\"convertToInteractive('df-601d9b1c-1223-4194-854b-c566c2940567')\"\n",
              "              title=\"Convert this dataframe to an interactive table.\"\n",
              "              style=\"display:none;\">\n",
              "        \n",
              "  <svg xmlns=\"http://www.w3.org/2000/svg\" height=\"24px\"viewBox=\"0 0 24 24\"\n",
              "       width=\"24px\">\n",
              "    <path d=\"M0 0h24v24H0V0z\" fill=\"none\"/>\n",
              "    <path d=\"M18.56 5.44l.94 2.06.94-2.06 2.06-.94-2.06-.94-.94-2.06-.94 2.06-2.06.94zm-11 1L8.5 8.5l.94-2.06 2.06-.94-2.06-.94L8.5 2.5l-.94 2.06-2.06.94zm10 10l.94 2.06.94-2.06 2.06-.94-2.06-.94-.94-2.06-.94 2.06-2.06.94z\"/><path d=\"M17.41 7.96l-1.37-1.37c-.4-.4-.92-.59-1.43-.59-.52 0-1.04.2-1.43.59L10.3 9.45l-7.72 7.72c-.78.78-.78 2.05 0 2.83L4 21.41c.39.39.9.59 1.41.59.51 0 1.02-.2 1.41-.59l7.78-7.78 2.81-2.81c.8-.78.8-2.07 0-2.86zM5.41 20L4 18.59l7.72-7.72 1.47 1.35L5.41 20z\"/>\n",
              "  </svg>\n",
              "      </button>\n",
              "      \n",
              "  <style>\n",
              "    .colab-df-container {\n",
              "      display:flex;\n",
              "      flex-wrap:wrap;\n",
              "      gap: 12px;\n",
              "    }\n",
              "\n",
              "    .colab-df-convert {\n",
              "      background-color: #E8F0FE;\n",
              "      border: none;\n",
              "      border-radius: 50%;\n",
              "      cursor: pointer;\n",
              "      display: none;\n",
              "      fill: #1967D2;\n",
              "      height: 32px;\n",
              "      padding: 0 0 0 0;\n",
              "      width: 32px;\n",
              "    }\n",
              "\n",
              "    .colab-df-convert:hover {\n",
              "      background-color: #E2EBFA;\n",
              "      box-shadow: 0px 1px 2px rgba(60, 64, 67, 0.3), 0px 1px 3px 1px rgba(60, 64, 67, 0.15);\n",
              "      fill: #174EA6;\n",
              "    }\n",
              "\n",
              "    [theme=dark] .colab-df-convert {\n",
              "      background-color: #3B4455;\n",
              "      fill: #D2E3FC;\n",
              "    }\n",
              "\n",
              "    [theme=dark] .colab-df-convert:hover {\n",
              "      background-color: #434B5C;\n",
              "      box-shadow: 0px 1px 3px 1px rgba(0, 0, 0, 0.15);\n",
              "      filter: drop-shadow(0px 1px 2px rgba(0, 0, 0, 0.3));\n",
              "      fill: #FFFFFF;\n",
              "    }\n",
              "  </style>\n",
              "\n",
              "      <script>\n",
              "        const buttonEl =\n",
              "          document.querySelector('#df-601d9b1c-1223-4194-854b-c566c2940567 button.colab-df-convert');\n",
              "        buttonEl.style.display =\n",
              "          google.colab.kernel.accessAllowed ? 'block' : 'none';\n",
              "\n",
              "        async function convertToInteractive(key) {\n",
              "          const element = document.querySelector('#df-601d9b1c-1223-4194-854b-c566c2940567');\n",
              "          const dataTable =\n",
              "            await google.colab.kernel.invokeFunction('convertToInteractive',\n",
              "                                                     [key], {});\n",
              "          if (!dataTable) return;\n",
              "\n",
              "          const docLinkHtml = 'Like what you see? Visit the ' +\n",
              "            '<a target=\"_blank\" href=https://colab.research.google.com/notebooks/data_table.ipynb>data table notebook</a>'\n",
              "            + ' to learn more about interactive tables.';\n",
              "          element.innerHTML = '';\n",
              "          dataTable['output_type'] = 'display_data';\n",
              "          await google.colab.output.renderOutput(dataTable, element);\n",
              "          const docLink = document.createElement('div');\n",
              "          docLink.innerHTML = docLinkHtml;\n",
              "          element.appendChild(docLink);\n",
              "        }\n",
              "      </script>\n",
              "    </div>\n",
              "  </div>\n",
              "  "
            ]
          },
          "metadata": {},
          "execution_count": 25
        }
      ]
    },
    {
      "cell_type": "markdown",
      "source": [
        "Dados de sessões:"
      ],
      "metadata": {
        "id": "FCWXuuFzWM9g"
      }
    },
    {
      "cell_type": "code",
      "source": [
        "sessoes = pd.read_csv('/content/drive/MyDrive/ARQUIVOS TERA/Aulas/DESAFIO IFOOD DE CLUSTERING/dados_desafio_ifood/sessions.csv', sep=';')"
      ],
      "metadata": {
        "id": "MbZmc6_pWKgN"
      },
      "execution_count": 8,
      "outputs": []
    },
    {
      "cell_type": "code",
      "source": [
        "sessoes.head(2)"
      ],
      "metadata": {
        "colab": {
          "base_uri": "https://localhost:8080/",
          "height": 280
        },
        "id": "E_dFBOMyWWaY",
        "outputId": "4c51084f-6743-4af3-c04d-f03ef4615eac"
      },
      "execution_count": 9,
      "outputs": [
        {
          "output_type": "execute_result",
          "data": {
            "text/plain": [
              "                             session_id                     user_account_uuid  \\\n",
              "0  0a364c77-4375-4334-8f64-a06bdd22229c  5a2fbdea-e2ee-41a5-b47c-41fbebdc78ef   \n",
              "1  b01811cd-ad2c-42f1-bccf-b90698ccc7a8  20cb43a7-c90d-4451-b067-e1b934746de6   \n",
              "\n",
              "            session_started             session_ended install_timestamp  \\\n",
              "0  2020-02-01T00:00:03.924Z  2020-02-01T00:10:51.217Z               NaN   \n",
              "1  2020-02-01T00:00:09.616Z  2020-02-01T00:14:22.713Z               NaN   \n",
              "\n",
              "   sum_view_restaurant_screen  sum_view_dish_screen  sum_click_add_item  \\\n",
              "0                          19                     5                   6   \n",
              "1                          14                     1                   0   \n",
              "\n",
              "   sum_view_checkout  sum_callback_purchase first_order_has_voucher  \\\n",
              "0                  6                      7                   False   \n",
              "1                  0                      0                     NaN   \n",
              "\n",
              "  media_campaign  load_time  available_restaurants  rownumber  \n",
              "0            NaN       5.00                 462.00          1  \n",
              "1            NaN       5.00                 128.00          2  "
            ],
            "text/html": [
              "\n",
              "  <div id=\"df-d23c4420-4e4c-47ae-b45c-b116ce84e9fe\">\n",
              "    <div class=\"colab-df-container\">\n",
              "      <div>\n",
              "<style scoped>\n",
              "    .dataframe tbody tr th:only-of-type {\n",
              "        vertical-align: middle;\n",
              "    }\n",
              "\n",
              "    .dataframe tbody tr th {\n",
              "        vertical-align: top;\n",
              "    }\n",
              "\n",
              "    .dataframe thead th {\n",
              "        text-align: right;\n",
              "    }\n",
              "</style>\n",
              "<table border=\"1\" class=\"dataframe\">\n",
              "  <thead>\n",
              "    <tr style=\"text-align: right;\">\n",
              "      <th></th>\n",
              "      <th>session_id</th>\n",
              "      <th>user_account_uuid</th>\n",
              "      <th>session_started</th>\n",
              "      <th>session_ended</th>\n",
              "      <th>install_timestamp</th>\n",
              "      <th>sum_view_restaurant_screen</th>\n",
              "      <th>sum_view_dish_screen</th>\n",
              "      <th>sum_click_add_item</th>\n",
              "      <th>sum_view_checkout</th>\n",
              "      <th>sum_callback_purchase</th>\n",
              "      <th>first_order_has_voucher</th>\n",
              "      <th>media_campaign</th>\n",
              "      <th>load_time</th>\n",
              "      <th>available_restaurants</th>\n",
              "      <th>rownumber</th>\n",
              "    </tr>\n",
              "  </thead>\n",
              "  <tbody>\n",
              "    <tr>\n",
              "      <th>0</th>\n",
              "      <td>0a364c77-4375-4334-8f64-a06bdd22229c</td>\n",
              "      <td>5a2fbdea-e2ee-41a5-b47c-41fbebdc78ef</td>\n",
              "      <td>2020-02-01T00:00:03.924Z</td>\n",
              "      <td>2020-02-01T00:10:51.217Z</td>\n",
              "      <td>NaN</td>\n",
              "      <td>19</td>\n",
              "      <td>5</td>\n",
              "      <td>6</td>\n",
              "      <td>6</td>\n",
              "      <td>7</td>\n",
              "      <td>False</td>\n",
              "      <td>NaN</td>\n",
              "      <td>5.00</td>\n",
              "      <td>462.00</td>\n",
              "      <td>1</td>\n",
              "    </tr>\n",
              "    <tr>\n",
              "      <th>1</th>\n",
              "      <td>b01811cd-ad2c-42f1-bccf-b90698ccc7a8</td>\n",
              "      <td>20cb43a7-c90d-4451-b067-e1b934746de6</td>\n",
              "      <td>2020-02-01T00:00:09.616Z</td>\n",
              "      <td>2020-02-01T00:14:22.713Z</td>\n",
              "      <td>NaN</td>\n",
              "      <td>14</td>\n",
              "      <td>1</td>\n",
              "      <td>0</td>\n",
              "      <td>0</td>\n",
              "      <td>0</td>\n",
              "      <td>NaN</td>\n",
              "      <td>NaN</td>\n",
              "      <td>5.00</td>\n",
              "      <td>128.00</td>\n",
              "      <td>2</td>\n",
              "    </tr>\n",
              "  </tbody>\n",
              "</table>\n",
              "</div>\n",
              "      <button class=\"colab-df-convert\" onclick=\"convertToInteractive('df-d23c4420-4e4c-47ae-b45c-b116ce84e9fe')\"\n",
              "              title=\"Convert this dataframe to an interactive table.\"\n",
              "              style=\"display:none;\">\n",
              "        \n",
              "  <svg xmlns=\"http://www.w3.org/2000/svg\" height=\"24px\"viewBox=\"0 0 24 24\"\n",
              "       width=\"24px\">\n",
              "    <path d=\"M0 0h24v24H0V0z\" fill=\"none\"/>\n",
              "    <path d=\"M18.56 5.44l.94 2.06.94-2.06 2.06-.94-2.06-.94-.94-2.06-.94 2.06-2.06.94zm-11 1L8.5 8.5l.94-2.06 2.06-.94-2.06-.94L8.5 2.5l-.94 2.06-2.06.94zm10 10l.94 2.06.94-2.06 2.06-.94-2.06-.94-.94-2.06-.94 2.06-2.06.94z\"/><path d=\"M17.41 7.96l-1.37-1.37c-.4-.4-.92-.59-1.43-.59-.52 0-1.04.2-1.43.59L10.3 9.45l-7.72 7.72c-.78.78-.78 2.05 0 2.83L4 21.41c.39.39.9.59 1.41.59.51 0 1.02-.2 1.41-.59l7.78-7.78 2.81-2.81c.8-.78.8-2.07 0-2.86zM5.41 20L4 18.59l7.72-7.72 1.47 1.35L5.41 20z\"/>\n",
              "  </svg>\n",
              "      </button>\n",
              "      \n",
              "  <style>\n",
              "    .colab-df-container {\n",
              "      display:flex;\n",
              "      flex-wrap:wrap;\n",
              "      gap: 12px;\n",
              "    }\n",
              "\n",
              "    .colab-df-convert {\n",
              "      background-color: #E8F0FE;\n",
              "      border: none;\n",
              "      border-radius: 50%;\n",
              "      cursor: pointer;\n",
              "      display: none;\n",
              "      fill: #1967D2;\n",
              "      height: 32px;\n",
              "      padding: 0 0 0 0;\n",
              "      width: 32px;\n",
              "    }\n",
              "\n",
              "    .colab-df-convert:hover {\n",
              "      background-color: #E2EBFA;\n",
              "      box-shadow: 0px 1px 2px rgba(60, 64, 67, 0.3), 0px 1px 3px 1px rgba(60, 64, 67, 0.15);\n",
              "      fill: #174EA6;\n",
              "    }\n",
              "\n",
              "    [theme=dark] .colab-df-convert {\n",
              "      background-color: #3B4455;\n",
              "      fill: #D2E3FC;\n",
              "    }\n",
              "\n",
              "    [theme=dark] .colab-df-convert:hover {\n",
              "      background-color: #434B5C;\n",
              "      box-shadow: 0px 1px 3px 1px rgba(0, 0, 0, 0.15);\n",
              "      filter: drop-shadow(0px 1px 2px rgba(0, 0, 0, 0.3));\n",
              "      fill: #FFFFFF;\n",
              "    }\n",
              "  </style>\n",
              "\n",
              "      <script>\n",
              "        const buttonEl =\n",
              "          document.querySelector('#df-d23c4420-4e4c-47ae-b45c-b116ce84e9fe button.colab-df-convert');\n",
              "        buttonEl.style.display =\n",
              "          google.colab.kernel.accessAllowed ? 'block' : 'none';\n",
              "\n",
              "        async function convertToInteractive(key) {\n",
              "          const element = document.querySelector('#df-d23c4420-4e4c-47ae-b45c-b116ce84e9fe');\n",
              "          const dataTable =\n",
              "            await google.colab.kernel.invokeFunction('convertToInteractive',\n",
              "                                                     [key], {});\n",
              "          if (!dataTable) return;\n",
              "\n",
              "          const docLinkHtml = 'Like what you see? Visit the ' +\n",
              "            '<a target=\"_blank\" href=https://colab.research.google.com/notebooks/data_table.ipynb>data table notebook</a>'\n",
              "            + ' to learn more about interactive tables.';\n",
              "          element.innerHTML = '';\n",
              "          dataTable['output_type'] = 'display_data';\n",
              "          await google.colab.output.renderOutput(dataTable, element);\n",
              "          const docLink = document.createElement('div');\n",
              "          docLink.innerHTML = docLinkHtml;\n",
              "          element.appendChild(docLink);\n",
              "        }\n",
              "      </script>\n",
              "    </div>\n",
              "  </div>\n",
              "  "
            ]
          },
          "metadata": {},
          "execution_count": 9
        }
      ]
    },
    {
      "cell_type": "markdown",
      "source": [
        "# Passo 3: Explorar os dados para obter informações úteis"
      ],
      "metadata": {
        "id": "yxW0QEfNYds-"
      }
    },
    {
      "cell_type": "markdown",
      "source": [
        "## Pedidos"
      ],
      "metadata": {
        "id": "nMnqk2HXZE5R"
      }
    },
    {
      "cell_type": "code",
      "source": [
        "pedidos.describe(include='all')"
      ],
      "metadata": {
        "colab": {
          "base_uri": "https://localhost:8080/",
          "height": 637
        },
        "id": "zWDpDLteYeMA",
        "outputId": "8b951bfb-0a7e-44a3-eaac-10994989fb18"
      },
      "execution_count": 10,
      "outputs": [
        {
          "output_type": "execute_result",
          "data": {
            "text/plain": [
              "                                    order_id    order_shift order_origin  \\\n",
              "count                                 226269         226269       226269   \n",
              "unique                                226269             10            3   \n",
              "top     000f4c94-ec38-488b-ad98-9bf3ea19d517  weekday lunch   RESTAURANT   \n",
              "freq                                       1          58433       219886   \n",
              "first                                    NaN            NaN          NaN   \n",
              "last                                     NaN            NaN          NaN   \n",
              "mean                                     NaN            NaN          NaN   \n",
              "std                                      NaN            NaN          NaN   \n",
              "min                                      NaN            NaN          NaN   \n",
              "25%                                      NaN            NaN          NaN   \n",
              "50%                                      NaN            NaN          NaN   \n",
              "75%                                      NaN            NaN          NaN   \n",
              "max                                      NaN            NaN          NaN   \n",
              "\n",
              "        delivery_fee scheduled  total_amount  subsidy_amount device_platform  \\\n",
              "count      226269.00    226269     226269.00       226269.00          226269   \n",
              "unique           NaN         2           NaN             NaN               3   \n",
              "top              NaN     False           NaN             NaN         ANDROID   \n",
              "freq             NaN    220683           NaN             NaN          118145   \n",
              "first            NaN       NaN           NaN             NaN             NaN   \n",
              "last             NaN       NaN           NaN             NaN             NaN   \n",
              "mean          405.42       NaN       6017.81          343.69             NaN   \n",
              "std           504.03       NaN       5180.78          677.85             NaN   \n",
              "min         -1247.50       NaN          0.00           -2.50             NaN   \n",
              "25%             0.00       NaN       2768.75            0.00             NaN   \n",
              "50%             0.00       NaN       4500.00            0.00             NaN   \n",
              "75%           748.75       NaN       7523.75          623.75             NaN   \n",
              "max          5000.00       NaN     174873.75        19611.25             NaN   \n",
              "\n",
              "       device_type device_app_version  ... merchant_long merchant_lat  \\\n",
              "count       226269             221834  ...     226269.00    226269.00   \n",
              "unique           2                213  ...           NaN          NaN   \n",
              "top         MOBILE             9.37.1  ...           NaN          NaN   \n",
              "freq        202494               9130  ...           NaN          NaN   \n",
              "first          NaN                NaN  ...           NaN          NaN   \n",
              "last           NaN                NaN  ...           NaN          NaN   \n",
              "mean           NaN                NaN  ...        -45.69       -23.19   \n",
              "std            NaN                NaN  ...          2.19         2.21   \n",
              "min            NaN                NaN  ...        -67.84       -31.78   \n",
              "25%            NaN                NaN  ...        -46.70       -23.60   \n",
              "50%            NaN                NaN  ...        -46.62       -23.54   \n",
              "75%            NaN                NaN  ...        -43.35       -22.95   \n",
              "max            NaN                NaN  ...         46.79         2.85   \n",
              "\n",
              "       has_free_delivery                    confirmed_date  \\\n",
              "count             226269                            226255   \n",
              "unique                 2                            226232   \n",
              "top                 True  2020-02-28 11:46:11.235000+00:00   \n",
              "freq              119785                                 2   \n",
              "first                NaN  2020-02-01 00:06:39.811000+00:00   \n",
              "last                 NaN  2020-09-30 23:57:49.783000+00:00   \n",
              "mean                 NaN                               NaN   \n",
              "std                  NaN                               NaN   \n",
              "min                  NaN                               NaN   \n",
              "25%                  NaN                               NaN   \n",
              "50%                  NaN                               NaN   \n",
              "75%                  NaN                               NaN   \n",
              "max                  NaN                               NaN   \n",
              "\n",
              "                          concluded_date  lag_last_order  \\\n",
              "count                             226265       226085.00   \n",
              "unique                            226187             NaN   \n",
              "top     2020-02-05 14:30:46.629000+00:00             NaN   \n",
              "freq                                   3             NaN   \n",
              "first   2020-02-01 01:02:08.216000+00:00             NaN   \n",
              "last    2020-10-01 01:57:49.250000+00:00             NaN   \n",
              "mean                                 NaN            2.51   \n",
              "std                                  NaN           11.99   \n",
              "min                                  NaN            0.00   \n",
              "25%                                  NaN            0.00   \n",
              "50%                                  NaN            1.00   \n",
              "75%                                  NaN            2.00   \n",
              "max                                  NaN         1429.00   \n",
              "\n",
              "                                  account_id review_score nps_score  \\\n",
              "count                                 226269    226269.00 226269.00   \n",
              "unique                                 13964          NaN       NaN   \n",
              "top     d300ac6b-3fd5-4f24-b80e-a2a0066f925c          NaN       NaN   \n",
              "freq                                     834          NaN       NaN   \n",
              "first                                    NaN          NaN       NaN   \n",
              "last                                     NaN          NaN       NaN   \n",
              "mean                                     NaN         4.67      9.11   \n",
              "std                                      NaN         0.93      1.90   \n",
              "min                                      NaN         1.00      1.00   \n",
              "25%                                      NaN         5.00      9.00   \n",
              "50%                                      NaN         5.00     10.00   \n",
              "75%                                      NaN         5.00     10.00   \n",
              "max                                      NaN         5.00     10.00   \n",
              "\n",
              "                       review_created_at  \n",
              "count                             226269  \n",
              "unique                            226268  \n",
              "top     2020-09-07 15:53:40.389000+00:00  \n",
              "freq                                   2  \n",
              "first   2020-02-01 01:03:06.465000+00:00  \n",
              "last    2020-10-16 00:50:14.035000+00:00  \n",
              "mean                                 NaN  \n",
              "std                                  NaN  \n",
              "min                                  NaN  \n",
              "25%                                  NaN  \n",
              "50%                                  NaN  \n",
              "75%                                  NaN  \n",
              "max                                  NaN  \n",
              "\n",
              "[13 rows x 34 columns]"
            ],
            "text/html": [
              "\n",
              "  <div id=\"df-8838255d-569b-46bc-8e23-3b2618e6c58b\">\n",
              "    <div class=\"colab-df-container\">\n",
              "      <div>\n",
              "<style scoped>\n",
              "    .dataframe tbody tr th:only-of-type {\n",
              "        vertical-align: middle;\n",
              "    }\n",
              "\n",
              "    .dataframe tbody tr th {\n",
              "        vertical-align: top;\n",
              "    }\n",
              "\n",
              "    .dataframe thead th {\n",
              "        text-align: right;\n",
              "    }\n",
              "</style>\n",
              "<table border=\"1\" class=\"dataframe\">\n",
              "  <thead>\n",
              "    <tr style=\"text-align: right;\">\n",
              "      <th></th>\n",
              "      <th>order_id</th>\n",
              "      <th>order_shift</th>\n",
              "      <th>order_origin</th>\n",
              "      <th>delivery_fee</th>\n",
              "      <th>scheduled</th>\n",
              "      <th>total_amount</th>\n",
              "      <th>subsidy_amount</th>\n",
              "      <th>device_platform</th>\n",
              "      <th>device_type</th>\n",
              "      <th>device_app_version</th>\n",
              "      <th>...</th>\n",
              "      <th>merchant_long</th>\n",
              "      <th>merchant_lat</th>\n",
              "      <th>has_free_delivery</th>\n",
              "      <th>confirmed_date</th>\n",
              "      <th>concluded_date</th>\n",
              "      <th>lag_last_order</th>\n",
              "      <th>account_id</th>\n",
              "      <th>review_score</th>\n",
              "      <th>nps_score</th>\n",
              "      <th>review_created_at</th>\n",
              "    </tr>\n",
              "  </thead>\n",
              "  <tbody>\n",
              "    <tr>\n",
              "      <th>count</th>\n",
              "      <td>226269</td>\n",
              "      <td>226269</td>\n",
              "      <td>226269</td>\n",
              "      <td>226269.00</td>\n",
              "      <td>226269</td>\n",
              "      <td>226269.00</td>\n",
              "      <td>226269.00</td>\n",
              "      <td>226269</td>\n",
              "      <td>226269</td>\n",
              "      <td>221834</td>\n",
              "      <td>...</td>\n",
              "      <td>226269.00</td>\n",
              "      <td>226269.00</td>\n",
              "      <td>226269</td>\n",
              "      <td>226255</td>\n",
              "      <td>226265</td>\n",
              "      <td>226085.00</td>\n",
              "      <td>226269</td>\n",
              "      <td>226269.00</td>\n",
              "      <td>226269.00</td>\n",
              "      <td>226269</td>\n",
              "    </tr>\n",
              "    <tr>\n",
              "      <th>unique</th>\n",
              "      <td>226269</td>\n",
              "      <td>10</td>\n",
              "      <td>3</td>\n",
              "      <td>NaN</td>\n",
              "      <td>2</td>\n",
              "      <td>NaN</td>\n",
              "      <td>NaN</td>\n",
              "      <td>3</td>\n",
              "      <td>2</td>\n",
              "      <td>213</td>\n",
              "      <td>...</td>\n",
              "      <td>NaN</td>\n",
              "      <td>NaN</td>\n",
              "      <td>2</td>\n",
              "      <td>226232</td>\n",
              "      <td>226187</td>\n",
              "      <td>NaN</td>\n",
              "      <td>13964</td>\n",
              "      <td>NaN</td>\n",
              "      <td>NaN</td>\n",
              "      <td>226268</td>\n",
              "    </tr>\n",
              "    <tr>\n",
              "      <th>top</th>\n",
              "      <td>000f4c94-ec38-488b-ad98-9bf3ea19d517</td>\n",
              "      <td>weekday lunch</td>\n",
              "      <td>RESTAURANT</td>\n",
              "      <td>NaN</td>\n",
              "      <td>False</td>\n",
              "      <td>NaN</td>\n",
              "      <td>NaN</td>\n",
              "      <td>ANDROID</td>\n",
              "      <td>MOBILE</td>\n",
              "      <td>9.37.1</td>\n",
              "      <td>...</td>\n",
              "      <td>NaN</td>\n",
              "      <td>NaN</td>\n",
              "      <td>True</td>\n",
              "      <td>2020-02-28 11:46:11.235000+00:00</td>\n",
              "      <td>2020-02-05 14:30:46.629000+00:00</td>\n",
              "      <td>NaN</td>\n",
              "      <td>d300ac6b-3fd5-4f24-b80e-a2a0066f925c</td>\n",
              "      <td>NaN</td>\n",
              "      <td>NaN</td>\n",
              "      <td>2020-09-07 15:53:40.389000+00:00</td>\n",
              "    </tr>\n",
              "    <tr>\n",
              "      <th>freq</th>\n",
              "      <td>1</td>\n",
              "      <td>58433</td>\n",
              "      <td>219886</td>\n",
              "      <td>NaN</td>\n",
              "      <td>220683</td>\n",
              "      <td>NaN</td>\n",
              "      <td>NaN</td>\n",
              "      <td>118145</td>\n",
              "      <td>202494</td>\n",
              "      <td>9130</td>\n",
              "      <td>...</td>\n",
              "      <td>NaN</td>\n",
              "      <td>NaN</td>\n",
              "      <td>119785</td>\n",
              "      <td>2</td>\n",
              "      <td>3</td>\n",
              "      <td>NaN</td>\n",
              "      <td>834</td>\n",
              "      <td>NaN</td>\n",
              "      <td>NaN</td>\n",
              "      <td>2</td>\n",
              "    </tr>\n",
              "    <tr>\n",
              "      <th>first</th>\n",
              "      <td>NaN</td>\n",
              "      <td>NaN</td>\n",
              "      <td>NaN</td>\n",
              "      <td>NaN</td>\n",
              "      <td>NaN</td>\n",
              "      <td>NaN</td>\n",
              "      <td>NaN</td>\n",
              "      <td>NaN</td>\n",
              "      <td>NaN</td>\n",
              "      <td>NaN</td>\n",
              "      <td>...</td>\n",
              "      <td>NaN</td>\n",
              "      <td>NaN</td>\n",
              "      <td>NaN</td>\n",
              "      <td>2020-02-01 00:06:39.811000+00:00</td>\n",
              "      <td>2020-02-01 01:02:08.216000+00:00</td>\n",
              "      <td>NaN</td>\n",
              "      <td>NaN</td>\n",
              "      <td>NaN</td>\n",
              "      <td>NaN</td>\n",
              "      <td>2020-02-01 01:03:06.465000+00:00</td>\n",
              "    </tr>\n",
              "    <tr>\n",
              "      <th>last</th>\n",
              "      <td>NaN</td>\n",
              "      <td>NaN</td>\n",
              "      <td>NaN</td>\n",
              "      <td>NaN</td>\n",
              "      <td>NaN</td>\n",
              "      <td>NaN</td>\n",
              "      <td>NaN</td>\n",
              "      <td>NaN</td>\n",
              "      <td>NaN</td>\n",
              "      <td>NaN</td>\n",
              "      <td>...</td>\n",
              "      <td>NaN</td>\n",
              "      <td>NaN</td>\n",
              "      <td>NaN</td>\n",
              "      <td>2020-09-30 23:57:49.783000+00:00</td>\n",
              "      <td>2020-10-01 01:57:49.250000+00:00</td>\n",
              "      <td>NaN</td>\n",
              "      <td>NaN</td>\n",
              "      <td>NaN</td>\n",
              "      <td>NaN</td>\n",
              "      <td>2020-10-16 00:50:14.035000+00:00</td>\n",
              "    </tr>\n",
              "    <tr>\n",
              "      <th>mean</th>\n",
              "      <td>NaN</td>\n",
              "      <td>NaN</td>\n",
              "      <td>NaN</td>\n",
              "      <td>405.42</td>\n",
              "      <td>NaN</td>\n",
              "      <td>6017.81</td>\n",
              "      <td>343.69</td>\n",
              "      <td>NaN</td>\n",
              "      <td>NaN</td>\n",
              "      <td>NaN</td>\n",
              "      <td>...</td>\n",
              "      <td>-45.69</td>\n",
              "      <td>-23.19</td>\n",
              "      <td>NaN</td>\n",
              "      <td>NaN</td>\n",
              "      <td>NaN</td>\n",
              "      <td>2.51</td>\n",
              "      <td>NaN</td>\n",
              "      <td>4.67</td>\n",
              "      <td>9.11</td>\n",
              "      <td>NaN</td>\n",
              "    </tr>\n",
              "    <tr>\n",
              "      <th>std</th>\n",
              "      <td>NaN</td>\n",
              "      <td>NaN</td>\n",
              "      <td>NaN</td>\n",
              "      <td>504.03</td>\n",
              "      <td>NaN</td>\n",
              "      <td>5180.78</td>\n",
              "      <td>677.85</td>\n",
              "      <td>NaN</td>\n",
              "      <td>NaN</td>\n",
              "      <td>NaN</td>\n",
              "      <td>...</td>\n",
              "      <td>2.19</td>\n",
              "      <td>2.21</td>\n",
              "      <td>NaN</td>\n",
              "      <td>NaN</td>\n",
              "      <td>NaN</td>\n",
              "      <td>11.99</td>\n",
              "      <td>NaN</td>\n",
              "      <td>0.93</td>\n",
              "      <td>1.90</td>\n",
              "      <td>NaN</td>\n",
              "    </tr>\n",
              "    <tr>\n",
              "      <th>min</th>\n",
              "      <td>NaN</td>\n",
              "      <td>NaN</td>\n",
              "      <td>NaN</td>\n",
              "      <td>-1247.50</td>\n",
              "      <td>NaN</td>\n",
              "      <td>0.00</td>\n",
              "      <td>-2.50</td>\n",
              "      <td>NaN</td>\n",
              "      <td>NaN</td>\n",
              "      <td>NaN</td>\n",
              "      <td>...</td>\n",
              "      <td>-67.84</td>\n",
              "      <td>-31.78</td>\n",
              "      <td>NaN</td>\n",
              "      <td>NaN</td>\n",
              "      <td>NaN</td>\n",
              "      <td>0.00</td>\n",
              "      <td>NaN</td>\n",
              "      <td>1.00</td>\n",
              "      <td>1.00</td>\n",
              "      <td>NaN</td>\n",
              "    </tr>\n",
              "    <tr>\n",
              "      <th>25%</th>\n",
              "      <td>NaN</td>\n",
              "      <td>NaN</td>\n",
              "      <td>NaN</td>\n",
              "      <td>0.00</td>\n",
              "      <td>NaN</td>\n",
              "      <td>2768.75</td>\n",
              "      <td>0.00</td>\n",
              "      <td>NaN</td>\n",
              "      <td>NaN</td>\n",
              "      <td>NaN</td>\n",
              "      <td>...</td>\n",
              "      <td>-46.70</td>\n",
              "      <td>-23.60</td>\n",
              "      <td>NaN</td>\n",
              "      <td>NaN</td>\n",
              "      <td>NaN</td>\n",
              "      <td>0.00</td>\n",
              "      <td>NaN</td>\n",
              "      <td>5.00</td>\n",
              "      <td>9.00</td>\n",
              "      <td>NaN</td>\n",
              "    </tr>\n",
              "    <tr>\n",
              "      <th>50%</th>\n",
              "      <td>NaN</td>\n",
              "      <td>NaN</td>\n",
              "      <td>NaN</td>\n",
              "      <td>0.00</td>\n",
              "      <td>NaN</td>\n",
              "      <td>4500.00</td>\n",
              "      <td>0.00</td>\n",
              "      <td>NaN</td>\n",
              "      <td>NaN</td>\n",
              "      <td>NaN</td>\n",
              "      <td>...</td>\n",
              "      <td>-46.62</td>\n",
              "      <td>-23.54</td>\n",
              "      <td>NaN</td>\n",
              "      <td>NaN</td>\n",
              "      <td>NaN</td>\n",
              "      <td>1.00</td>\n",
              "      <td>NaN</td>\n",
              "      <td>5.00</td>\n",
              "      <td>10.00</td>\n",
              "      <td>NaN</td>\n",
              "    </tr>\n",
              "    <tr>\n",
              "      <th>75%</th>\n",
              "      <td>NaN</td>\n",
              "      <td>NaN</td>\n",
              "      <td>NaN</td>\n",
              "      <td>748.75</td>\n",
              "      <td>NaN</td>\n",
              "      <td>7523.75</td>\n",
              "      <td>623.75</td>\n",
              "      <td>NaN</td>\n",
              "      <td>NaN</td>\n",
              "      <td>NaN</td>\n",
              "      <td>...</td>\n",
              "      <td>-43.35</td>\n",
              "      <td>-22.95</td>\n",
              "      <td>NaN</td>\n",
              "      <td>NaN</td>\n",
              "      <td>NaN</td>\n",
              "      <td>2.00</td>\n",
              "      <td>NaN</td>\n",
              "      <td>5.00</td>\n",
              "      <td>10.00</td>\n",
              "      <td>NaN</td>\n",
              "    </tr>\n",
              "    <tr>\n",
              "      <th>max</th>\n",
              "      <td>NaN</td>\n",
              "      <td>NaN</td>\n",
              "      <td>NaN</td>\n",
              "      <td>5000.00</td>\n",
              "      <td>NaN</td>\n",
              "      <td>174873.75</td>\n",
              "      <td>19611.25</td>\n",
              "      <td>NaN</td>\n",
              "      <td>NaN</td>\n",
              "      <td>NaN</td>\n",
              "      <td>...</td>\n",
              "      <td>46.79</td>\n",
              "      <td>2.85</td>\n",
              "      <td>NaN</td>\n",
              "      <td>NaN</td>\n",
              "      <td>NaN</td>\n",
              "      <td>1429.00</td>\n",
              "      <td>NaN</td>\n",
              "      <td>5.00</td>\n",
              "      <td>10.00</td>\n",
              "      <td>NaN</td>\n",
              "    </tr>\n",
              "  </tbody>\n",
              "</table>\n",
              "<p>13 rows × 34 columns</p>\n",
              "</div>\n",
              "      <button class=\"colab-df-convert\" onclick=\"convertToInteractive('df-8838255d-569b-46bc-8e23-3b2618e6c58b')\"\n",
              "              title=\"Convert this dataframe to an interactive table.\"\n",
              "              style=\"display:none;\">\n",
              "        \n",
              "  <svg xmlns=\"http://www.w3.org/2000/svg\" height=\"24px\"viewBox=\"0 0 24 24\"\n",
              "       width=\"24px\">\n",
              "    <path d=\"M0 0h24v24H0V0z\" fill=\"none\"/>\n",
              "    <path d=\"M18.56 5.44l.94 2.06.94-2.06 2.06-.94-2.06-.94-.94-2.06-.94 2.06-2.06.94zm-11 1L8.5 8.5l.94-2.06 2.06-.94-2.06-.94L8.5 2.5l-.94 2.06-2.06.94zm10 10l.94 2.06.94-2.06 2.06-.94-2.06-.94-.94-2.06-.94 2.06-2.06.94z\"/><path d=\"M17.41 7.96l-1.37-1.37c-.4-.4-.92-.59-1.43-.59-.52 0-1.04.2-1.43.59L10.3 9.45l-7.72 7.72c-.78.78-.78 2.05 0 2.83L4 21.41c.39.39.9.59 1.41.59.51 0 1.02-.2 1.41-.59l7.78-7.78 2.81-2.81c.8-.78.8-2.07 0-2.86zM5.41 20L4 18.59l7.72-7.72 1.47 1.35L5.41 20z\"/>\n",
              "  </svg>\n",
              "      </button>\n",
              "      \n",
              "  <style>\n",
              "    .colab-df-container {\n",
              "      display:flex;\n",
              "      flex-wrap:wrap;\n",
              "      gap: 12px;\n",
              "    }\n",
              "\n",
              "    .colab-df-convert {\n",
              "      background-color: #E8F0FE;\n",
              "      border: none;\n",
              "      border-radius: 50%;\n",
              "      cursor: pointer;\n",
              "      display: none;\n",
              "      fill: #1967D2;\n",
              "      height: 32px;\n",
              "      padding: 0 0 0 0;\n",
              "      width: 32px;\n",
              "    }\n",
              "\n",
              "    .colab-df-convert:hover {\n",
              "      background-color: #E2EBFA;\n",
              "      box-shadow: 0px 1px 2px rgba(60, 64, 67, 0.3), 0px 1px 3px 1px rgba(60, 64, 67, 0.15);\n",
              "      fill: #174EA6;\n",
              "    }\n",
              "\n",
              "    [theme=dark] .colab-df-convert {\n",
              "      background-color: #3B4455;\n",
              "      fill: #D2E3FC;\n",
              "    }\n",
              "\n",
              "    [theme=dark] .colab-df-convert:hover {\n",
              "      background-color: #434B5C;\n",
              "      box-shadow: 0px 1px 3px 1px rgba(0, 0, 0, 0.15);\n",
              "      filter: drop-shadow(0px 1px 2px rgba(0, 0, 0, 0.3));\n",
              "      fill: #FFFFFF;\n",
              "    }\n",
              "  </style>\n",
              "\n",
              "      <script>\n",
              "        const buttonEl =\n",
              "          document.querySelector('#df-8838255d-569b-46bc-8e23-3b2618e6c58b button.colab-df-convert');\n",
              "        buttonEl.style.display =\n",
              "          google.colab.kernel.accessAllowed ? 'block' : 'none';\n",
              "\n",
              "        async function convertToInteractive(key) {\n",
              "          const element = document.querySelector('#df-8838255d-569b-46bc-8e23-3b2618e6c58b');\n",
              "          const dataTable =\n",
              "            await google.colab.kernel.invokeFunction('convertToInteractive',\n",
              "                                                     [key], {});\n",
              "          if (!dataTable) return;\n",
              "\n",
              "          const docLinkHtml = 'Like what you see? Visit the ' +\n",
              "            '<a target=\"_blank\" href=https://colab.research.google.com/notebooks/data_table.ipynb>data table notebook</a>'\n",
              "            + ' to learn more about interactive tables.';\n",
              "          element.innerHTML = '';\n",
              "          dataTable['output_type'] = 'display_data';\n",
              "          await google.colab.output.renderOutput(dataTable, element);\n",
              "          const docLink = document.createElement('div');\n",
              "          docLink.innerHTML = docLinkHtml;\n",
              "          element.appendChild(docLink);\n",
              "        }\n",
              "      </script>\n",
              "    </div>\n",
              "  </div>\n",
              "  "
            ]
          },
          "metadata": {},
          "execution_count": 10
        }
      ]
    },
    {
      "cell_type": "markdown",
      "source": [
        "### Tipo dos dados"
      ],
      "metadata": {
        "id": "gvhKqcCuZohb"
      }
    },
    {
      "cell_type": "code",
      "source": [
        "pedidos.info()"
      ],
      "metadata": {
        "colab": {
          "base_uri": "https://localhost:8080/"
        },
        "id": "plexBwqtZJyL",
        "outputId": "a57d290a-c3b3-466b-a399-06b71c9f3026"
      },
      "execution_count": 11,
      "outputs": [
        {
          "output_type": "stream",
          "name": "stdout",
          "text": [
            "<class 'pandas.core.frame.DataFrame'>\n",
            "RangeIndex: 226269 entries, 0 to 226268\n",
            "Data columns (total 34 columns):\n",
            " #   Column                Non-Null Count   Dtype              \n",
            "---  ------                --------------   -----              \n",
            " 0   order_id              226269 non-null  object             \n",
            " 1   order_shift           226269 non-null  object             \n",
            " 2   order_origin          226269 non-null  object             \n",
            " 3   delivery_fee          226269 non-null  float64            \n",
            " 4   scheduled             226269 non-null  bool               \n",
            " 5   total_amount          226269 non-null  float64            \n",
            " 6   subsidy_amount        226269 non-null  float64            \n",
            " 7   device_platform       226269 non-null  object             \n",
            " 8   device_type           226269 non-null  object             \n",
            " 9   device_app_version    221834 non-null  object             \n",
            " 10  centroid_id           226269 non-null  object             \n",
            " 11  state_label           226269 non-null  object             \n",
            " 12  city                  226269 non-null  object             \n",
            " 13  district              226269 non-null  object             \n",
            " 14  customer_long         226269 non-null  float64            \n",
            " 15  customer_lat          226269 non-null  float64            \n",
            " 16  restaurant_id         226269 non-null  object             \n",
            " 17  dish_type             226269 non-null  object             \n",
            " 18  group_id              226269 non-null  object             \n",
            " 19  merchant_centroid_id  226269 non-null  object             \n",
            " 20  merchant_state        226269 non-null  object             \n",
            " 21  merchant_city         226269 non-null  object             \n",
            " 22  merchant_district     226269 non-null  object             \n",
            " 23  merchant_zipcode      226269 non-null  int64              \n",
            " 24  merchant_long         226269 non-null  float64            \n",
            " 25  merchant_lat          226269 non-null  float64            \n",
            " 26  has_free_delivery     226269 non-null  bool               \n",
            " 27  confirmed_date        226255 non-null  datetime64[ns, UTC]\n",
            " 28  concluded_date        226265 non-null  datetime64[ns, UTC]\n",
            " 29  lag_last_order        226085 non-null  float64            \n",
            " 30  account_id            226269 non-null  object             \n",
            " 31  review_score          226269 non-null  float64            \n",
            " 32  nps_score             226269 non-null  int64              \n",
            " 33  review_created_at     226269 non-null  datetime64[ns, UTC]\n",
            "dtypes: bool(2), datetime64[ns, UTC](3), float64(9), int64(2), object(18)\n",
            "memory usage: 55.7+ MB\n"
          ]
        }
      ]
    },
    {
      "cell_type": "markdown",
      "source": [
        "### Dados faltantes"
      ],
      "metadata": {
        "id": "rjkqVJ-qcPsN"
      }
    },
    {
      "cell_type": "code",
      "source": [
        "pedidos.isnull().sum()"
      ],
      "metadata": {
        "colab": {
          "base_uri": "https://localhost:8080/"
        },
        "id": "qd9fCC32amSz",
        "outputId": "92e7c242-81dc-4e3c-cb8b-62bffd2ebf86"
      },
      "execution_count": 12,
      "outputs": [
        {
          "output_type": "execute_result",
          "data": {
            "text/plain": [
              "order_id                   0\n",
              "order_shift                0\n",
              "order_origin               0\n",
              "delivery_fee               0\n",
              "scheduled                  0\n",
              "total_amount               0\n",
              "subsidy_amount             0\n",
              "device_platform            0\n",
              "device_type                0\n",
              "device_app_version      4435\n",
              "centroid_id                0\n",
              "state_label                0\n",
              "city                       0\n",
              "district                   0\n",
              "customer_long              0\n",
              "customer_lat               0\n",
              "restaurant_id              0\n",
              "dish_type                  0\n",
              "group_id                   0\n",
              "merchant_centroid_id       0\n",
              "merchant_state             0\n",
              "merchant_city              0\n",
              "merchant_district          0\n",
              "merchant_zipcode           0\n",
              "merchant_long              0\n",
              "merchant_lat               0\n",
              "has_free_delivery          0\n",
              "confirmed_date            14\n",
              "concluded_date             4\n",
              "lag_last_order           184\n",
              "account_id                 0\n",
              "review_score               0\n",
              "nps_score                  0\n",
              "review_created_at          0\n",
              "dtype: int64"
            ]
          },
          "metadata": {},
          "execution_count": 12
        }
      ]
    },
    {
      "cell_type": "code",
      "source": [
        "import missingno as msno"
      ],
      "metadata": {
        "id": "AHQr5wb2cTSj"
      },
      "execution_count": 13,
      "outputs": []
    },
    {
      "cell_type": "code",
      "source": [
        "msno.matrix(pedidos)"
      ],
      "metadata": {
        "colab": {
          "base_uri": "https://localhost:8080/",
          "height": 620
        },
        "id": "kgjeblh7c-8p",
        "outputId": "daa9f486-774a-4c63-8efb-9fc13508df1d"
      },
      "execution_count": 14,
      "outputs": [
        {
          "output_type": "execute_result",
          "data": {
            "text/plain": [
              "<matplotlib.axes._subplots.AxesSubplot at 0x7fdd020f9b50>"
            ]
          },
          "metadata": {},
          "execution_count": 14
        },
        {
          "output_type": "display_data",
          "data": {
            "text/plain": [
              "<Figure size 1800x720 with 2 Axes>"
            ],
            "image/png": "[encoded data removed]"
          },
          "metadata": {
            "needs_background": "light"
          }
        }
      ]
    },
    {
      "cell_type": "markdown",
      "source": [
        "### Visualização das features"
      ],
      "metadata": {
        "id": "E2rJDPMweMlU"
      }
    },
    {
      "cell_type": "code",
      "source": [
        "fig, axes = plt.subplots(1, 2, figsize = (20,5))\n",
        "fig.subplots_adjust(hspace=0.5, wspace=0.125)\n",
        "fig.suptitle('Distribuição das features do dataframe pedidos')\n",
        "\n",
        "#Order shift\n",
        "sns.countplot(ax=axes[0],x=pedidos['order_shift'])\n",
        "axes[0].tick_params(axis='x', rotation=45)\n",
        "axes[0].set(xlabel='Período da semana/dia', ylabel='Contagem')\n",
        "\n",
        "#Order origin\n",
        "sns.countplot(ax=axes[1],x=pedidos['order_origin'])\n",
        "axes[1].tick_params(axis='x', rotation=45)\n",
        "axes[1].set(xlabel='Estabelecimento', ylabel='Contagem')\n",
        "\n",
        "plt.show();"
      ],
      "metadata": {
        "colab": {
          "base_uri": "https://localhost:8080/",
          "height": 434
        },
        "id": "oCRRE7-kdLWn",
        "outputId": "996d7266-36ae-4a2b-fdc1-afb8ddfed30b"
      },
      "execution_count": 15,
      "outputs": [
        {
          "output_type": "display_data",
          "data": {
            "text/plain": [
              "<Figure size 1440x360 with 2 Axes>"
            ],
            "image/png": "[encoded data removed]"
          },
          "metadata": {
            "needs_background": "light"
          }
        }
      ]
    },
    {
      "cell_type": "markdown",
      "source": [
        "*  Há mais pedidos durante a semana no almoço. Pedidos para janta durante a semana fica em segundo lugar.\n",
        "* A grande maioria dos pedidos são feitos para restaurante. Há um grande desbalanceamento na feature order_origin\n",
        "\n",
        "> 1. Será que as pessoas tem menos tempo para fazer suas próprias refeições durante o meio da semana? Trabalho? Deslocamento?"
      ],
      "metadata": {
        "id": "n2kEeuXJm5d6"
      }
    },
    {
      "cell_type": "code",
      "source": [
        "fig, axes = plt.subplots(1, 2, figsize = (20,5))\n",
        "fig.subplots_adjust(hspace=0.5, wspace=0.125)\n",
        "fig.suptitle('Distribuição das features do dataframe pedidos')\n",
        "\n",
        "#Taxa de entrega\n",
        "sns.histplot(ax=axes[0],x=pedidos['delivery_fee'], kde=True, bins=20)\n",
        "axes[0].tick_params(axis='x', rotation=45)\n",
        "axes[0].set(xlabel='Taxas de entrega\\n Média: ' + str(pedidos['delivery_fee'].mean()) + '  |  Mediana: ' + str(pedidos['delivery_fee'].median())\n",
        "  + '\\n Mínimo:' + str(pedidos['delivery_fee'].min()) + '  |  Máximo:' + str(pedidos['delivery_fee'].max()), ylabel='Contagem')\n",
        "\n",
        "#Taxa de entrega\n",
        "sns.violinplot(ax=axes[1],x=pedidos['delivery_fee'])\n",
        "axes[1].tick_params(axis='x', rotation=45)\n",
        "axes[1].set(xlabel='Taxas de entrega\\n Média: ' + str(pedidos['delivery_fee'].mean()) + '  |  Mediana: ' + str(pedidos['delivery_fee'].median())\n",
        "  + '\\n Mínimo:' + str(pedidos['delivery_fee'].min()) + '  |  Máximo:' + str(pedidos['delivery_fee'].max()), ylabel='Contagem')\n",
        "\n",
        "plt.show();"
      ],
      "metadata": {
        "colab": {
          "base_uri": "https://localhost:8080/",
          "height": 416
        },
        "id": "2vN9iwCnfLly",
        "outputId": "02b4047a-098f-405b-d16f-d0081f08813c"
      },
      "execution_count": 16,
      "outputs": [
        {
          "output_type": "display_data",
          "data": {
            "text/plain": [
              "<Figure size 1440x360 with 2 Axes>"
            ],
            "image/png": "[encoded data removed]"
          },
          "metadata": {
            "needs_background": "light"
          }
        }
      ]
    },
    {
      "cell_type": "markdown",
      "source": [
        "* A grande maioria das taxas de entregas fica em torno de 0 reais, porém há uns dados curiosos de taxas negativas e também taxas muito altas.\n",
        "*  Entre 200 reais e 1500 reais nota-se uma densidade mais alta de valores de taxas de entregas. Entre 1500 e 2000 reais nota-se também um aumento de densidade de valores de taxas de entrega.\n",
        "\n",
        "> 1. Qual o motivo de taxas negativas?\n",
        "> 2. As taxas mais altas são outliers que podem ser descartados?\n",
        "\n"
      ],
      "metadata": {
        "id": "c9k7-BXTnIv5"
      }
    },
    {
      "cell_type": "code",
      "source": [
        "fig, axes = plt.subplots(1, 2, figsize = (20, 5))\n",
        "fig.subplots_adjust(hspace=0.5, wspace=0.125)\n",
        "fig.suptitle('Distribuição das features do dataframe pedidos')\n",
        "\n",
        "#Taxa do pedido\n",
        "sns.histplot(ax=axes[0],x=pedidos['total_amount'], kde=True, bins=20)\n",
        "axes[0].tick_params(axis='x', rotation=45)\n",
        "axes[0].set(xlabel='Total do pedido\\n Média: ' + str(pedidos['total_amount'].mean()) + '  |  Mediana: ' + str(pedidos['total_amount'].median())\n",
        "  + '\\n Mínimo:' + str(pedidos['total_amount'].min()) + '  |  Máximo:' + str(pedidos['total_amount'].max()), ylabel='Contagem')\n",
        "\n",
        "#Taxa do pedido\n",
        "sns.boxplot(ax=axes[1],x=pedidos['total_amount'])\n",
        "axes[1].tick_params(axis='x', rotation=45)\n",
        "axes[1].set(xlabel='Total do pedido\\n Média: ' + str(pedidos['total_amount'].mean()) + '  |  Mediana: ' + str(pedidos['total_amount'].median())\n",
        "  + '\\n Mínimo:' + str(pedidos['total_amount'].min()) + '  |  Máximo:' + str(pedidos['total_amount'].max()), ylabel='Contagem')\n",
        "\n",
        "plt.show();"
      ],
      "metadata": {
        "colab": {
          "base_uri": "https://localhost:8080/",
          "height": 419
        },
        "id": "jVPqFUR4nGbc",
        "outputId": "f0770cc4-69a9-4f7b-dd94-49a64c8b6e6c"
      },
      "execution_count": 17,
      "outputs": [
        {
          "output_type": "display_data",
          "data": {
            "text/plain": [
              "<Figure size 1440x360 with 2 Axes>"
            ],
            "image/png": "[encoded data removed]"
          },
          "metadata": {
            "needs_background": "light"
          }
        }
      ]
    },
    {
      "cell_type": "markdown",
      "source": [
        "* A grande maioria dos pedidos custam de 0 a 10 mil reais (!)\n",
        "* A maior frequência de valores de pedidos fica em torno de 4500 reais (!)\n",
        "* Há vários outliers de valores que vão até aprox. 175 mil reais! (!)\n",
        "\n",
        "> * Esses valores de outliers podem ser dados verídicos, devido à quantidade deles?\n",
        "> * Porque a maioria dos pedidos ficam tão caros? Se são feitos em dias comerciais, podem ser empresas que compram comida para seus funcionários através do iFood?\n",
        "\n",
        "(!) significa 'Caraaaaaamba'"
      ],
      "metadata": {
        "id": "vc0L71y0qiyL"
      }
    },
    {
      "cell_type": "code",
      "source": [
        "fig, axes = plt.subplots(1, 2, figsize = (20,5))\n",
        "fig.subplots_adjust(hspace=0.5, wspace=0.125)\n",
        "fig.suptitle('Distribuição das features do dataframe pedidos')\n",
        "\n",
        "#Order shift\n",
        "sns.countplot(ax=axes[0],x=pedidos['device_platform'])\n",
        "axes[0].tick_params(axis='x', rotation=45)\n",
        "axes[0].set(xlabel='Plataformas dos Dispositivos dos Clientes', ylabel='Contagem')\n",
        "\n",
        "#Order origin\n",
        "sns.countplot(ax=axes[1],x=pedidos['device_type'])\n",
        "axes[1].tick_params(axis='x', rotation=45)\n",
        "axes[1].set(xlabel='Tipos dos dispositivos dos Clientes', ylabel='Contagem')\n",
        "\n",
        "plt.show();"
      ],
      "metadata": {
        "id": "yzX3mmJQnREN",
        "colab": {
          "base_uri": "https://localhost:8080/",
          "height": 400
        },
        "outputId": "9a7a5ff3-560b-461e-f474-d1a55724dd69"
      },
      "execution_count": 18,
      "outputs": [
        {
          "output_type": "display_data",
          "data": {
            "text/plain": [
              "<Figure size 1440x360 with 2 Axes>"
            ],
            "image/png": "[encoded data removed]"
          },
          "metadata": {
            "needs_background": "light"
          }
        }
      ]
    },
    {
      "cell_type": "markdown",
      "source": [
        "* Os clientes pedem mais por smartphones. Há um grande desbalanceamento na feature device_type.\n",
        "* As plataformas mais utilizadas são para mobile, o que fortalece o ponto anterior."
      ],
      "metadata": {
        "id": "rbt0qejlhWIM"
      }
    },
    {
      "cell_type": "markdown",
      "source": [
        "# Marketing"
      ],
      "metadata": {
        "id": "A5VCUcgyiGz9"
      }
    },
    {
      "cell_type": "code",
      "source": [
        "marketing.describe(include='all')"
      ],
      "metadata": {
        "colab": {
          "base_uri": "https://localhost:8080/",
          "height": 457
        },
        "id": "iDdFjljahRnc",
        "outputId": "7071bef6-d8d7-4be2-d8db-a1b8e5cd9233"
      },
      "execution_count": 26,
      "outputs": [
        {
          "output_type": "execute_result",
          "data": {
            "text/plain": [
              "                                  account_id    registration_date  \\\n",
              "count                                  20249                20249   \n",
              "unique                                 20249                 2994   \n",
              "top     7c0450e7-a806-4208-8449-e4269a27e6b5  2010-01-05 00:00:00   \n",
              "freq                                       1                   49   \n",
              "first                                    NaN  2009-12-31 00:00:00   \n",
              "last                                     NaN  2020-02-29 00:00:00   \n",
              "mean                                     NaN                  NaN   \n",
              "std                                      NaN                  NaN   \n",
              "min                                      NaN                  NaN   \n",
              "25%                                      NaN                  NaN   \n",
              "50%                                      NaN                  NaN   \n",
              "75%                                      NaN                  NaN   \n",
              "max                                      NaN                  NaN   \n",
              "\n",
              "       ifood_status ifood_status_last_month  total_order_count  \\\n",
              "count         20249                   20249           20249.00   \n",
              "unique            5                       6                NaN   \n",
              "top          Active                  Active                NaN   \n",
              "freq          11648                   14080                NaN   \n",
              "first           NaN                     NaN                NaN   \n",
              "last            NaN                     NaN                NaN   \n",
              "mean            NaN                     NaN             341.32   \n",
              "std             NaN                     NaN             303.15   \n",
              "min             NaN                     NaN               0.00   \n",
              "25%             NaN                     NaN              91.00   \n",
              "50%             NaN                     NaN             286.00   \n",
              "75%             NaN                     NaN             501.00   \n",
              "max             NaN                     NaN            3098.00   \n",
              "\n",
              "           first_order_date  \n",
              "count                 20248  \n",
              "unique                 2666  \n",
              "top     2020-02-14 00:00:00  \n",
              "freq                     49  \n",
              "first   2012-01-01 00:00:00  \n",
              "last    2021-03-31 00:00:00  \n",
              "mean                    NaN  \n",
              "std                     NaN  \n",
              "min                     NaN  \n",
              "25%                     NaN  \n",
              "50%                     NaN  \n",
              "75%                     NaN  \n",
              "max                     NaN  "
            ],
            "text/html": [
              "\n",
              "  <div id=\"df-9bf759c6-309d-42a1-8bef-bda9d478b759\">\n",
              "    <div class=\"colab-df-container\">\n",
              "      <div>\n",
              "<style scoped>\n",
              "    .dataframe tbody tr th:only-of-type {\n",
              "        vertical-align: middle;\n",
              "    }\n",
              "\n",
              "    .dataframe tbody tr th {\n",
              "        vertical-align: top;\n",
              "    }\n",
              "\n",
              "    .dataframe thead th {\n",
              "        text-align: right;\n",
              "    }\n",
              "</style>\n",
              "<table border=\"1\" class=\"dataframe\">\n",
              "  <thead>\n",
              "    <tr style=\"text-align: right;\">\n",
              "      <th></th>\n",
              "      <th>account_id</th>\n",
              "      <th>registration_date</th>\n",
              "      <th>ifood_status</th>\n",
              "      <th>ifood_status_last_month</th>\n",
              "      <th>total_order_count</th>\n",
              "      <th>first_order_date</th>\n",
              "    </tr>\n",
              "  </thead>\n",
              "  <tbody>\n",
              "    <tr>\n",
              "      <th>count</th>\n",
              "      <td>20249</td>\n",
              "      <td>20249</td>\n",
              "      <td>20249</td>\n",
              "      <td>20249</td>\n",
              "      <td>20249.00</td>\n",
              "      <td>20248</td>\n",
              "    </tr>\n",
              "    <tr>\n",
              "      <th>unique</th>\n",
              "      <td>20249</td>\n",
              "      <td>2994</td>\n",
              "      <td>5</td>\n",
              "      <td>6</td>\n",
              "      <td>NaN</td>\n",
              "      <td>2666</td>\n",
              "    </tr>\n",
              "    <tr>\n",
              "      <th>top</th>\n",
              "      <td>7c0450e7-a806-4208-8449-e4269a27e6b5</td>\n",
              "      <td>2010-01-05 00:00:00</td>\n",
              "      <td>Active</td>\n",
              "      <td>Active</td>\n",
              "      <td>NaN</td>\n",
              "      <td>2020-02-14 00:00:00</td>\n",
              "    </tr>\n",
              "    <tr>\n",
              "      <th>freq</th>\n",
              "      <td>1</td>\n",
              "      <td>49</td>\n",
              "      <td>11648</td>\n",
              "      <td>14080</td>\n",
              "      <td>NaN</td>\n",
              "      <td>49</td>\n",
              "    </tr>\n",
              "    <tr>\n",
              "      <th>first</th>\n",
              "      <td>NaN</td>\n",
              "      <td>2009-12-31 00:00:00</td>\n",
              "      <td>NaN</td>\n",
              "      <td>NaN</td>\n",
              "      <td>NaN</td>\n",
              "      <td>2012-01-01 00:00:00</td>\n",
              "    </tr>\n",
              "    <tr>\n",
              "      <th>last</th>\n",
              "      <td>NaN</td>\n",
              "      <td>2020-02-29 00:00:00</td>\n",
              "      <td>NaN</td>\n",
              "      <td>NaN</td>\n",
              "      <td>NaN</td>\n",
              "      <td>2021-03-31 00:00:00</td>\n",
              "    </tr>\n",
              "    <tr>\n",
              "      <th>mean</th>\n",
              "      <td>NaN</td>\n",
              "      <td>NaN</td>\n",
              "      <td>NaN</td>\n",
              "      <td>NaN</td>\n",
              "      <td>341.32</td>\n",
              "      <td>NaN</td>\n",
              "    </tr>\n",
              "    <tr>\n",
              "      <th>std</th>\n",
              "      <td>NaN</td>\n",
              "      <td>NaN</td>\n",
              "      <td>NaN</td>\n",
              "      <td>NaN</td>\n",
              "      <td>303.15</td>\n",
              "      <td>NaN</td>\n",
              "    </tr>\n",
              "    <tr>\n",
              "      <th>min</th>\n",
              "      <td>NaN</td>\n",
              "      <td>NaN</td>\n",
              "      <td>NaN</td>\n",
              "      <td>NaN</td>\n",
              "      <td>0.00</td>\n",
              "      <td>NaN</td>\n",
              "    </tr>\n",
              "    <tr>\n",
              "      <th>25%</th>\n",
              "      <td>NaN</td>\n",
              "      <td>NaN</td>\n",
              "      <td>NaN</td>\n",
              "      <td>NaN</td>\n",
              "      <td>91.00</td>\n",
              "      <td>NaN</td>\n",
              "    </tr>\n",
              "    <tr>\n",
              "      <th>50%</th>\n",
              "      <td>NaN</td>\n",
              "      <td>NaN</td>\n",
              "      <td>NaN</td>\n",
              "      <td>NaN</td>\n",
              "      <td>286.00</td>\n",
              "      <td>NaN</td>\n",
              "    </tr>\n",
              "    <tr>\n",
              "      <th>75%</th>\n",
              "      <td>NaN</td>\n",
              "      <td>NaN</td>\n",
              "      <td>NaN</td>\n",
              "      <td>NaN</td>\n",
              "      <td>501.00</td>\n",
              "      <td>NaN</td>\n",
              "    </tr>\n",
              "    <tr>\n",
              "      <th>max</th>\n",
              "      <td>NaN</td>\n",
              "      <td>NaN</td>\n",
              "      <td>NaN</td>\n",
              "      <td>NaN</td>\n",
              "      <td>3098.00</td>\n",
              "      <td>NaN</td>\n",
              "    </tr>\n",
              "  </tbody>\n",
              "</table>\n",
              "</div>\n",
              "      <button class=\"colab-df-convert\" onclick=\"convertToInteractive('df-9bf759c6-309d-42a1-8bef-bda9d478b759')\"\n",
              "              title=\"Convert this dataframe to an interactive table.\"\n",
              "              style=\"display:none;\">\n",
              "        \n",
              "  <svg xmlns=\"http://www.w3.org/2000/svg\" height=\"24px\"viewBox=\"0 0 24 24\"\n",
              "       width=\"24px\">\n",
              "    <path d=\"M0 0h24v24H0V0z\" fill=\"none\"/>\n",
              "    <path d=\"M18.56 5.44l.94 2.06.94-2.06 2.06-.94-2.06-.94-.94-2.06-.94 2.06-2.06.94zm-11 1L8.5 8.5l.94-2.06 2.06-.94-2.06-.94L8.5 2.5l-.94 2.06-2.06.94zm10 10l.94 2.06.94-2.06 2.06-.94-2.06-.94-.94-2.06-.94 2.06-2.06.94z\"/><path d=\"M17.41 7.96l-1.37-1.37c-.4-.4-.92-.59-1.43-.59-.52 0-1.04.2-1.43.59L10.3 9.45l-7.72 7.72c-.78.78-.78 2.05 0 2.83L4 21.41c.39.39.9.59 1.41.59.51 0 1.02-.2 1.41-.59l7.78-7.78 2.81-2.81c.8-.78.8-2.07 0-2.86zM5.41 20L4 18.59l7.72-7.72 1.47 1.35L5.41 20z\"/>\n",
              "  </svg>\n",
              "      </button>\n",
              "      \n",
              "  <style>\n",
              "    .colab-df-container {\n",
              "      display:flex;\n",
              "      flex-wrap:wrap;\n",
              "      gap: 12px;\n",
              "    }\n",
              "\n",
              "    .colab-df-convert {\n",
              "      background-color: #E8F0FE;\n",
              "      border: none;\n",
              "      border-radius: 50%;\n",
              "      cursor: pointer;\n",
              "      display: none;\n",
              "      fill: #1967D2;\n",
              "      height: 32px;\n",
              "      padding: 0 0 0 0;\n",
              "      width: 32px;\n",
              "    }\n",
              "\n",
              "    .colab-df-convert:hover {\n",
              "      background-color: #E2EBFA;\n",
              "      box-shadow: 0px 1px 2px rgba(60, 64, 67, 0.3), 0px 1px 3px 1px rgba(60, 64, 67, 0.15);\n",
              "      fill: #174EA6;\n",
              "    }\n",
              "\n",
              "    [theme=dark] .colab-df-convert {\n",
              "      background-color: #3B4455;\n",
              "      fill: #D2E3FC;\n",
              "    }\n",
              "\n",
              "    [theme=dark] .colab-df-convert:hover {\n",
              "      background-color: #434B5C;\n",
              "      box-shadow: 0px 1px 3px 1px rgba(0, 0, 0, 0.15);\n",
              "      filter: drop-shadow(0px 1px 2px rgba(0, 0, 0, 0.3));\n",
              "      fill: #FFFFFF;\n",
              "    }\n",
              "  </style>\n",
              "\n",
              "      <script>\n",
              "        const buttonEl =\n",
              "          document.querySelector('#df-9bf759c6-309d-42a1-8bef-bda9d478b759 button.colab-df-convert');\n",
              "        buttonEl.style.display =\n",
              "          google.colab.kernel.accessAllowed ? 'block' : 'none';\n",
              "\n",
              "        async function convertToInteractive(key) {\n",
              "          const element = document.querySelector('#df-9bf759c6-309d-42a1-8bef-bda9d478b759');\n",
              "          const dataTable =\n",
              "            await google.colab.kernel.invokeFunction('convertToInteractive',\n",
              "                                                     [key], {});\n",
              "          if (!dataTable) return;\n",
              "\n",
              "          const docLinkHtml = 'Like what you see? Visit the ' +\n",
              "            '<a target=\"_blank\" href=https://colab.research.google.com/notebooks/data_table.ipynb>data table notebook</a>'\n",
              "            + ' to learn more about interactive tables.';\n",
              "          element.innerHTML = '';\n",
              "          dataTable['output_type'] = 'display_data';\n",
              "          await google.colab.output.renderOutput(dataTable, element);\n",
              "          const docLink = document.createElement('div');\n",
              "          docLink.innerHTML = docLinkHtml;\n",
              "          element.appendChild(docLink);\n",
              "        }\n",
              "      </script>\n",
              "    </div>\n",
              "  </div>\n",
              "  "
            ]
          },
          "metadata": {},
          "execution_count": 26
        }
      ]
    },
    {
      "cell_type": "markdown",
      "source": [
        "### Tipos dos dados"
      ],
      "metadata": {
        "id": "lq2egpUlifve"
      }
    },
    {
      "cell_type": "code",
      "source": [
        "marketing.info()"
      ],
      "metadata": {
        "colab": {
          "base_uri": "https://localhost:8080/"
        },
        "id": "LD8c60LFiQAo",
        "outputId": "ccc3b4bf-aace-4047-aff1-b42c37c1b73a"
      },
      "execution_count": 27,
      "outputs": [
        {
          "output_type": "stream",
          "name": "stdout",
          "text": [
            "<class 'pandas.core.frame.DataFrame'>\n",
            "RangeIndex: 20249 entries, 0 to 20248\n",
            "Data columns (total 6 columns):\n",
            " #   Column                   Non-Null Count  Dtype         \n",
            "---  ------                   --------------  -----         \n",
            " 0   account_id               20249 non-null  object        \n",
            " 1   registration_date        20249 non-null  datetime64[ns]\n",
            " 2   ifood_status             20249 non-null  object        \n",
            " 3   ifood_status_last_month  20249 non-null  object        \n",
            " 4   total_order_count        20249 non-null  int64         \n",
            " 5   first_order_date         20248 non-null  datetime64[ns]\n",
            "dtypes: datetime64[ns](2), int64(1), object(3)\n",
            "memory usage: 949.3+ KB\n"
          ]
        }
      ]
    },
    {
      "cell_type": "markdown",
      "source": [
        "### Dados faltantes"
      ],
      "metadata": {
        "id": "aBGDl6X_iruG"
      }
    },
    {
      "cell_type": "code",
      "source": [
        "marketing.isnull().sum()"
      ],
      "metadata": {
        "colab": {
          "base_uri": "https://localhost:8080/"
        },
        "id": "HJtZU--cikbi",
        "outputId": "105468a2-9584-4322-bbbc-81c64d86f284"
      },
      "execution_count": 28,
      "outputs": [
        {
          "output_type": "execute_result",
          "data": {
            "text/plain": [
              "account_id                 0\n",
              "registration_date          0\n",
              "ifood_status               0\n",
              "ifood_status_last_month    0\n",
              "total_order_count          0\n",
              "first_order_date           1\n",
              "dtype: int64"
            ]
          },
          "metadata": {},
          "execution_count": 28
        }
      ]
    },
    {
      "cell_type": "code",
      "source": [
        ""
      ],
      "metadata": {
        "id": "d4ujb81diuXy"
      },
      "execution_count": null,
      "outputs": []
    },
    {
      "cell_type": "markdown",
      "source": [
        "### Visualização das features"
      ],
      "metadata": {
        "id": "vHgjVH5mjRb8"
      }
    },
    {
      "cell_type": "markdown",
      "source": [
        "Tempo de cadastro no iFood"
      ],
      "metadata": {
        "id": "P2Gu-cJvkIgd"
      }
    },
    {
      "cell_type": "code",
      "source": [
        "#convertendo data de registro para anos de cadastro para melhor visualização\n",
        "marketing['anos_de_cadastro'] = ((marketing['registration_date'] - pd.to_datetime(\"today\"))/np.timedelta64(1, 'Y'))*(-1)"
      ],
      "metadata": {
        "id": "OH2wdhtxjTbl"
      },
      "execution_count": 32,
      "outputs": []
    },
    {
      "cell_type": "code",
      "source": [
        "marketing.head()"
      ],
      "metadata": {
        "colab": {
          "base_uri": "https://localhost:8080/",
          "height": 206
        },
        "id": "EGYg2UZekYa-",
        "outputId": "6b1b869b-f02c-4846-b481-456785061a0a"
      },
      "execution_count": 33,
      "outputs": [
        {
          "output_type": "execute_result",
          "data": {
            "text/plain": [
              "                             account_id registration_date ifood_status  \\\n",
              "0  7c0450e7-a806-4208-8449-e4269a27e6b5        2020-02-02     Inactive   \n",
              "1  16d0afba-00b8-427a-ba1f-2e397a9fbb54        2016-05-17        Churn   \n",
              "2  61c051ee-d37c-45c6-8c22-c236db3b62b7        2018-09-02       Active   \n",
              "3  82e48692-e4fa-494e-b03e-6815a819b7b1        2017-11-10  Reactivated   \n",
              "4  382af025-14c8-4ba9-b62f-deddd6f25789        2019-08-05     Inactive   \n",
              "\n",
              "  ifood_status_last_month  total_order_count first_order_date  \\\n",
              "0                Inactive                  8       2020-02-28   \n",
              "1                  Active                457       2017-03-19   \n",
              "2                  Active                206       2018-09-02   \n",
              "3                   Churn                 47       2018-05-01   \n",
              "4                Inactive                 66       2019-08-12   \n",
              "\n",
              "   anos_de_cadastro  \n",
              "0              2.18  \n",
              "1              5.89  \n",
              "2              3.60  \n",
              "3              4.41  \n",
              "4              2.67  "
            ],
            "text/html": [
              "\n",
              "  <div id=\"df-4ebef1fc-849d-4327-b054-95f3586eff75\">\n",
              "    <div class=\"colab-df-container\">\n",
              "      <div>\n",
              "<style scoped>\n",
              "    .dataframe tbody tr th:only-of-type {\n",
              "        vertical-align: middle;\n",
              "    }\n",
              "\n",
              "    .dataframe tbody tr th {\n",
              "        vertical-align: top;\n",
              "    }\n",
              "\n",
              "    .dataframe thead th {\n",
              "        text-align: right;\n",
              "    }\n",
              "</style>\n",
              "<table border=\"1\" class=\"dataframe\">\n",
              "  <thead>\n",
              "    <tr style=\"text-align: right;\">\n",
              "      <th></th>\n",
              "      <th>account_id</th>\n",
              "      <th>registration_date</th>\n",
              "      <th>ifood_status</th>\n",
              "      <th>ifood_status_last_month</th>\n",
              "      <th>total_order_count</th>\n",
              "      <th>first_order_date</th>\n",
              "      <th>anos_de_cadastro</th>\n",
              "    </tr>\n",
              "  </thead>\n",
              "  <tbody>\n",
              "    <tr>\n",
              "      <th>0</th>\n",
              "      <td>7c0450e7-a806-4208-8449-e4269a27e6b5</td>\n",
              "      <td>2020-02-02</td>\n",
              "      <td>Inactive</td>\n",
              "      <td>Inactive</td>\n",
              "      <td>8</td>\n",
              "      <td>2020-02-28</td>\n",
              "      <td>2.18</td>\n",
              "    </tr>\n",
              "    <tr>\n",
              "      <th>1</th>\n",
              "      <td>16d0afba-00b8-427a-ba1f-2e397a9fbb54</td>\n",
              "      <td>2016-05-17</td>\n",
              "      <td>Churn</td>\n",
              "      <td>Active</td>\n",
              "      <td>457</td>\n",
              "      <td>2017-03-19</td>\n",
              "      <td>5.89</td>\n",
              "    </tr>\n",
              "    <tr>\n",
              "      <th>2</th>\n",
              "      <td>61c051ee-d37c-45c6-8c22-c236db3b62b7</td>\n",
              "      <td>2018-09-02</td>\n",
              "      <td>Active</td>\n",
              "      <td>Active</td>\n",
              "      <td>206</td>\n",
              "      <td>2018-09-02</td>\n",
              "      <td>3.60</td>\n",
              "    </tr>\n",
              "    <tr>\n",
              "      <th>3</th>\n",
              "      <td>82e48692-e4fa-494e-b03e-6815a819b7b1</td>\n",
              "      <td>2017-11-10</td>\n",
              "      <td>Reactivated</td>\n",
              "      <td>Churn</td>\n",
              "      <td>47</td>\n",
              "      <td>2018-05-01</td>\n",
              "      <td>4.41</td>\n",
              "    </tr>\n",
              "    <tr>\n",
              "      <th>4</th>\n",
              "      <td>382af025-14c8-4ba9-b62f-deddd6f25789</td>\n",
              "      <td>2019-08-05</td>\n",
              "      <td>Inactive</td>\n",
              "      <td>Inactive</td>\n",
              "      <td>66</td>\n",
              "      <td>2019-08-12</td>\n",
              "      <td>2.67</td>\n",
              "    </tr>\n",
              "  </tbody>\n",
              "</table>\n",
              "</div>\n",
              "      <button class=\"colab-df-convert\" onclick=\"convertToInteractive('df-4ebef1fc-849d-4327-b054-95f3586eff75')\"\n",
              "              title=\"Convert this dataframe to an interactive table.\"\n",
              "              style=\"display:none;\">\n",
              "        \n",
              "  <svg xmlns=\"http://www.w3.org/2000/svg\" height=\"24px\"viewBox=\"0 0 24 24\"\n",
              "       width=\"24px\">\n",
              "    <path d=\"M0 0h24v24H0V0z\" fill=\"none\"/>\n",
              "    <path d=\"M18.56 5.44l.94 2.06.94-2.06 2.06-.94-2.06-.94-.94-2.06-.94 2.06-2.06.94zm-11 1L8.5 8.5l.94-2.06 2.06-.94-2.06-.94L8.5 2.5l-.94 2.06-2.06.94zm10 10l.94 2.06.94-2.06 2.06-.94-2.06-.94-.94-2.06-.94 2.06-2.06.94z\"/><path d=\"M17.41 7.96l-1.37-1.37c-.4-.4-.92-.59-1.43-.59-.52 0-1.04.2-1.43.59L10.3 9.45l-7.72 7.72c-.78.78-.78 2.05 0 2.83L4 21.41c.39.39.9.59 1.41.59.51 0 1.02-.2 1.41-.59l7.78-7.78 2.81-2.81c.8-.78.8-2.07 0-2.86zM5.41 20L4 18.59l7.72-7.72 1.47 1.35L5.41 20z\"/>\n",
              "  </svg>\n",
              "      </button>\n",
              "      \n",
              "  <style>\n",
              "    .colab-df-container {\n",
              "      display:flex;\n",
              "      flex-wrap:wrap;\n",
              "      gap: 12px;\n",
              "    }\n",
              "\n",
              "    .colab-df-convert {\n",
              "      background-color: #E8F0FE;\n",
              "      border: none;\n",
              "      border-radius: 50%;\n",
              "      cursor: pointer;\n",
              "      display: none;\n",
              "      fill: #1967D2;\n",
              "      height: 32px;\n",
              "      padding: 0 0 0 0;\n",
              "      width: 32px;\n",
              "    }\n",
              "\n",
              "    .colab-df-convert:hover {\n",
              "      background-color: #E2EBFA;\n",
              "      box-shadow: 0px 1px 2px rgba(60, 64, 67, 0.3), 0px 1px 3px 1px rgba(60, 64, 67, 0.15);\n",
              "      fill: #174EA6;\n",
              "    }\n",
              "\n",
              "    [theme=dark] .colab-df-convert {\n",
              "      background-color: #3B4455;\n",
              "      fill: #D2E3FC;\n",
              "    }\n",
              "\n",
              "    [theme=dark] .colab-df-convert:hover {\n",
              "      background-color: #434B5C;\n",
              "      box-shadow: 0px 1px 3px 1px rgba(0, 0, 0, 0.15);\n",
              "      filter: drop-shadow(0px 1px 2px rgba(0, 0, 0, 0.3));\n",
              "      fill: #FFFFFF;\n",
              "    }\n",
              "  </style>\n",
              "\n",
              "      <script>\n",
              "        const buttonEl =\n",
              "          document.querySelector('#df-4ebef1fc-849d-4327-b054-95f3586eff75 button.colab-df-convert');\n",
              "        buttonEl.style.display =\n",
              "          google.colab.kernel.accessAllowed ? 'block' : 'none';\n",
              "\n",
              "        async function convertToInteractive(key) {\n",
              "          const element = document.querySelector('#df-4ebef1fc-849d-4327-b054-95f3586eff75');\n",
              "          const dataTable =\n",
              "            await google.colab.kernel.invokeFunction('convertToInteractive',\n",
              "                                                     [key], {});\n",
              "          if (!dataTable) return;\n",
              "\n",
              "          const docLinkHtml = 'Like what you see? Visit the ' +\n",
              "            '<a target=\"_blank\" href=https://colab.research.google.com/notebooks/data_table.ipynb>data table notebook</a>'\n",
              "            + ' to learn more about interactive tables.';\n",
              "          element.innerHTML = '';\n",
              "          dataTable['output_type'] = 'display_data';\n",
              "          await google.colab.output.renderOutput(dataTable, element);\n",
              "          const docLink = document.createElement('div');\n",
              "          docLink.innerHTML = docLinkHtml;\n",
              "          element.appendChild(docLink);\n",
              "        }\n",
              "      </script>\n",
              "    </div>\n",
              "  </div>\n",
              "  "
            ]
          },
          "metadata": {},
          "execution_count": 33
        }
      ]
    },
    {
      "cell_type": "code",
      "source": [
        "fig, axes = plt.subplots(2, 2, figsize = (20,15))\n",
        "fig.subplots_adjust(hspace=0.5, wspace=0.125)\n",
        "fig.suptitle('Distribuição das features do dataframe marketing - Anos de Cadastro')\n",
        "\n",
        "#Anos de cadastro\n",
        "sns.histplot(ax=axes[0, 0], x=marketing['anos_de_cadastro'], kde=True)\n",
        "axes[0, 0].tick_params(axis='x')\n",
        "axes[0, 0].set(xlabel='Anos de cadastro\\n Média: ' + str(marketing['anos_de_cadastro'].mean()) + '  |  Mediana: ' + str(marketing['anos_de_cadastro'].median())\n",
        "  + '\\n Mínimo:' + str(marketing['anos_de_cadastro'].min()) + '  |  Máximo:' + str(marketing['anos_de_cadastro'].max()), ylabel='Contagem')\n",
        "\n",
        "#Anos de cadastro\n",
        "sns.boxplot(ax=axes[0, 1],x=marketing['anos_de_cadastro'])\n",
        "axes[0, 1].tick_params(axis='x')\n",
        "axes[0, 1].set(xlabel='Anos de cadastro\\n Média: ' + str(marketing['anos_de_cadastro'].mean()) + '  |  Mediana: ' + str(marketing['anos_de_cadastro'].median())\n",
        "  + '\\n Mínimo:' + str(marketing['anos_de_cadastro'].min()) + '  |  Máximo:' + str(marketing['anos_de_cadastro'].max()), ylabel='Contagem')\n",
        "\n",
        "#Anos de cadastro\n",
        "sns.violinplot(ax=axes[1, 0],x=marketing['anos_de_cadastro'])\n",
        "axes[1, 0].tick_params(axis='x')\n",
        "axes[1, 0].set(xlabel='Anos de cadastro\\n Média: ' + str(marketing['anos_de_cadastro'].mean()) + '  |  Mediana: ' + str(marketing['anos_de_cadastro'].median())\n",
        "  + '\\n Mínimo:' + str(marketing['anos_de_cadastro'].min()) + '  |  Máximo:' + str(marketing['anos_de_cadastro'].max()), ylabel='Contagem')\n",
        "\n",
        "plt.show();"
      ],
      "metadata": {
        "colab": {
          "base_uri": "https://localhost:8080/",
          "height": 1000
        },
        "id": "51ZQePvMk7H_",
        "outputId": "4cbea86d-6e93-4cf1-af4d-55770e1a8de7"
      },
      "execution_count": 42,
      "outputs": [
        {
          "output_type": "display_data",
          "data": {
            "text/plain": [
              "<Figure size 1440x1080 with 4 Axes>"
            ],
            "image/png": "[encoded data removed]"
          },
          "metadata": {
            "needs_background": "light"
          }
        }
      ]
    },
    {
      "cell_type": "markdown",
      "source": [
        "* Cliente mais novos são maioria, o que pode indicar o crescimento de obtenção de clientes pela empresa.\n",
        "* Há clientes bastante antigos, considerados como outliers.\n",
        "* Houve um longo crescimento de clientes entre 6 e 12 anos atrás. De 3 a 6 anos o número de novos clientes estabilizou, mas voltou a aumentar nos últimos 2 a 3 anos."
      ],
      "metadata": {
        "id": "VhaojJaLoo4j"
      }
    },
    {
      "cell_type": "code",
      "source": [
        "fig, axes = plt.subplots(1, 2, figsize = (20,5))\n",
        "fig.subplots_adjust(hspace=0.5, wspace=0.125)\n",
        "fig.suptitle('Distribuição das features do dataframe marketing - Status dos Clientes')\n",
        "\n",
        "#Anos de cadastro\n",
        "sns.countplot(ax=axes[0], x=marketing['ifood_status'])\n",
        "axes[0].tick_params(axis='x')\n",
        "axes[0].set(xlabel='Status do cliente atualmente', ylabel='Contagem')\n",
        "\n",
        "#Anos de cadastro\n",
        "sns.countplot(ax=axes[1],x=marketing['ifood_status_last_month'])\n",
        "axes[1].tick_params(axis='x')\n",
        "axes[1].set(xlabel='Status do cliente no último mês', ylabel='Contagem')\n",
        "\n",
        "plt.show();"
      ],
      "metadata": {
        "colab": {
          "base_uri": "https://localhost:8080/",
          "height": 370
        },
        "id": "atyxlZe_lbwT",
        "outputId": "bb338a9d-c08c-4fb3-eef4-57438e287915"
      },
      "execution_count": 47,
      "outputs": [
        {
          "output_type": "display_data",
          "data": {
            "text/plain": [
              "<Figure size 1440x360 with 2 Axes>"
            ],
            "image/png": "[encoded data removed]"
          },
          "metadata": {
            "needs_background": "light"
          }
        }
      ]
    },
    {
      "cell_type": "markdown",
      "source": [
        "* O número desses clentes ativos continuou bem alto. Porém, pode-se ver que diminuíram o número de clientes ativos e aumentou a quantidade de Churn desde o mês anterior. \n",
        "* O número de inativos variou pouco. \n",
        "* Houve uma diminuição no número de reativados."
      ],
      "metadata": {
        "id": "nvksRqrKqGfI"
      }
    },
    {
      "cell_type": "code",
      "source": [
        ""
      ],
      "metadata": {
        "id": "tNtICcjAn7hJ"
      },
      "execution_count": null,
      "outputs": []
    }
  ]
}